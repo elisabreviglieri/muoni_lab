{
 "cells": [
  {
   "cell_type": "markdown",
   "id": "5e54848d-93bd-4972-8b5a-f44a9d6eb272",
   "metadata": {},
   "source": [
    "## Misura dell'Efficienza dei Rivelatori (updated to 27th November 2024)\n",
    "\n",
    "Dimensioni rivelatori: \n",
    "\n",
    "\n",
    "\n",
    "Questo notebook contiene la misura dell'efficienza dei tre scintillatori calcolata sfruttando le coincidenze doppie e triple mediante la formula:\n",
    "\n",
    "$\\epsilon_{riv} = \\frac{N_{triple}}{N_{doppie}}$\n",
    "\n",
    "\n",
    "\n",
    "Tensioni: \n",
    "\n",
    "I conteggi vengono effettuati ogni 5 minuti.\n",
    "\n",
    "$\\Delta t$ = 50 $ns$\n",
    "\n",
    "\n",
    "* N.B.: Non si è tenuto conto delle coincidenze accidentali\n"
   ]
  },
  {
   "cell_type": "markdown",
   "id": "bb7bc10c-a333-4e81-9760-b4f5d7a1aeee",
   "metadata": {},
   "source": [
    "### Esempio: Efficienza del Primo Rivelatore\n",
    "\n",
    "Sfruttiamo le coincidenze triple. Le coincidenze doppie sono relative al secondo e al terzo rivelatore: \n",
    "\n",
    "\n",
    "\n",
    "\n",
    "$N_{triple} = N_{\\mu} \\, \\epsilon_1 \\, \\epsilon_2 \\, \\epsilon_3$,\n",
    "\n",
    "$N_{doppie} = N_{\\mu}\\, \\epsilon_2 \\,\\epsilon_3$ $=$ $N_{2,3} $ \n",
    "\n",
    "$\\Rightarrow$ $\\epsilon_1 = \\frac{N_{triple}}{N_{2,3}} $"
   ]
  },
  {
   "cell_type": "code",
   "execution_count": 24,
   "id": "33ef784a-92b0-4097-b12a-1b69350490fa",
   "metadata": {},
   "outputs": [],
   "source": [
    "import pandas as pd\n",
    "import numpy as np\n",
    "import matplotlib.pyplot as plt\n",
    "import seaborn as sns\n",
    "from mpl_toolkits.mplot3d import Axes3D"
   ]
  },
  {
   "cell_type": "code",
   "execution_count": 25,
   "id": "2be7c0e5-ccd5-4c81-a25a-0af889d53a3b",
   "metadata": {},
   "outputs": [],
   "source": [
    "# LateX font:\n",
    "plt.rcParams['text.usetex'] = True\n",
    "plt.rcParams['font.family'] = 'serif'"
   ]
  },
  {
   "cell_type": "markdown",
   "id": "371d66ed-532b-4d4a-a525-dae6b7593f0f",
   "metadata": {},
   "source": [
    "### Crea i DataFrames con tutte le coincidenze doppie e triple"
   ]
  },
  {
   "cell_type": "markdown",
   "id": "d8e91d69-d732-44d1-83e3-c89b34ae0f5a",
   "metadata": {},
   "source": [
    "## Studio dell'Efficienza dello Scintillatore 1\n",
    "\n",
    "* Voltaggi degli Scintillatori 2 e 3:  $V = 1050 \\,V$\n",
    "* Threshold degli Scintillatori 2 e 3:  $Th = 70 \\,meV$\n",
    "\n",
    "\n",
    "Variamo il voltaggio e la threshold per trovare il punto in cui l'efficienza dello Scintillatore 1 è massima."
   ]
  },
  {
   "cell_type": "markdown",
   "id": "ac47e7d9-c10e-436e-8d2d-0ddfa5617333",
   "metadata": {},
   "source": [
    "## V = 1150 V"
   ]
  },
  {
   "cell_type": "code",
   "execution_count": 26,
   "id": "b22e983b-6053-47ba-9f37-6fbd53b88029",
   "metadata": {},
   "outputs": [],
   "source": [
    "# Rivelatore 1 : le doppie sono 2,3\n",
    "\n",
    "data_1 = {\n",
    "        'V [V]': np.full(6, 1150),\n",
    "        'Th [meV]' : [0, 10, 12, 15, 20, 30, ],\n",
    "    \n",
    "        'N_singole_1': [221221, 64650, 52594,\n",
    "                        45709, \n",
    "                        32490, 17421, ],\n",
    "        'N_singole_2': [8198, 8301, 8227,\n",
    "                        8044,\n",
    "                        8198, 8127, ],\n",
    "        'N_singole_3': [8816, 8835, 8728,\n",
    "                        8624,\n",
    "                        8767, 8534,],\n",
    "    \n",
    "        'N_doppie_12' : [6856, 6818, 6776,\n",
    "                         6578, \n",
    "                         6659, 5974, ],\n",
    "        'N_doppie_13' : [7180, 7107, 6958,\n",
    "                         6830,\n",
    "                         6815, 6085, ],\n",
    "        'N_doppie_23' : [5705, 5795, 5746,\n",
    "                         5624,\n",
    "                         5757, 5626],\n",
    "    \n",
    "        'N_triple' : [5672, 5758, 5697,\n",
    "                      5541,\n",
    "                      5604, 4944],\n",
    "}\n",
    "df_1= pd.DataFrame(data_1)"
   ]
  },
  {
   "cell_type": "code",
   "execution_count": 27,
   "id": "3e578f8c-9acf-4b52-ae35-0e669d6734b8",
   "metadata": {},
   "outputs": [],
   "source": [
    "# Doppie accidentali : \n",
    "delta_t = 50*10**(-9) # s\n",
    "\n",
    "N_doppie_acc_12 = df_1['N_singole_1']/(5*60) * df_1['N_singole_2']/(5*60) * delta_t\n",
    "N_doppie_acc_13 = df_1['N_singole_1']/(5*60) * df_1['N_singole_3']/(5*60) * delta_t\n",
    "N_doppie_acc_23 = df_1['N_singole_2']/(5*60) * df_1['N_singole_3']/(5*60) * delta_t\n",
    "\n",
    "# Coincidenze triple : \n",
    "N_triple_acc = df_1['N_singole_1']/(5*60) * df_1['N_singole_2']/(5*60) * df_1['N_singole_3']/(5*60) * delta_t * delta_t"
   ]
  },
  {
   "cell_type": "code",
   "execution_count": 28,
   "id": "eb802ba6-8b76-46f5-8671-580a881d8a1a",
   "metadata": {},
   "outputs": [
    {
     "data": {
      "text/html": [
       "<div>\n",
       "<style scoped>\n",
       "    .dataframe tbody tr th:only-of-type {\n",
       "        vertical-align: middle;\n",
       "    }\n",
       "\n",
       "    .dataframe tbody tr th {\n",
       "        vertical-align: top;\n",
       "    }\n",
       "\n",
       "    .dataframe thead th {\n",
       "        text-align: right;\n",
       "    }\n",
       "</style>\n",
       "<table border=\"1\" class=\"dataframe\">\n",
       "  <thead>\n",
       "    <tr style=\"text-align: right;\">\n",
       "      <th></th>\n",
       "      <th>N_acc_12</th>\n",
       "      <th>N_acc_13</th>\n",
       "      <th>N_acc_23</th>\n",
       "      <th>N_acc</th>\n",
       "    </tr>\n",
       "  </thead>\n",
       "  <tbody>\n",
       "    <tr>\n",
       "      <th>0</th>\n",
       "      <td>0.001008</td>\n",
       "      <td>0.001083</td>\n",
       "      <td>0.000040</td>\n",
       "      <td>1.480410e-09</td>\n",
       "    </tr>\n",
       "    <tr>\n",
       "      <th>1</th>\n",
       "      <td>0.000298</td>\n",
       "      <td>0.000317</td>\n",
       "      <td>0.000041</td>\n",
       "      <td>4.390174e-10</td>\n",
       "    </tr>\n",
       "    <tr>\n",
       "      <th>2</th>\n",
       "      <td>0.000240</td>\n",
       "      <td>0.000255</td>\n",
       "      <td>0.000040</td>\n",
       "      <td>3.496783e-10</td>\n",
       "    </tr>\n",
       "    <tr>\n",
       "      <th>3</th>\n",
       "      <td>0.000204</td>\n",
       "      <td>0.000219</td>\n",
       "      <td>0.000039</td>\n",
       "      <td>2.936018e-10</td>\n",
       "    </tr>\n",
       "    <tr>\n",
       "      <th>4</th>\n",
       "      <td>0.000148</td>\n",
       "      <td>0.000158</td>\n",
       "      <td>0.000040</td>\n",
       "      <td>2.162145e-10</td>\n",
       "    </tr>\n",
       "    <tr>\n",
       "      <th>5</th>\n",
       "      <td>0.000079</td>\n",
       "      <td>0.000083</td>\n",
       "      <td>0.000039</td>\n",
       "      <td>1.118748e-10</td>\n",
       "    </tr>\n",
       "  </tbody>\n",
       "</table>\n",
       "</div>"
      ],
      "text/plain": [
       "   N_acc_12  N_acc_13  N_acc_23         N_acc\n",
       "0  0.001008  0.001083  0.000040  1.480410e-09\n",
       "1  0.000298  0.000317  0.000041  4.390174e-10\n",
       "2  0.000240  0.000255  0.000040  3.496783e-10\n",
       "3  0.000204  0.000219  0.000039  2.936018e-10\n",
       "4  0.000148  0.000158  0.000040  2.162145e-10\n",
       "5  0.000079  0.000083  0.000039  1.118748e-10"
      ]
     },
     "execution_count": 28,
     "metadata": {},
     "output_type": "execute_result"
    }
   ],
   "source": [
    "df_acc = pd.DataFrame({\n",
    "    'N_acc_12': N_doppie_acc_12,\n",
    "    'N_acc_13': N_doppie_acc_13,\n",
    "    'N_acc_23': N_doppie_acc_23,\n",
    "    'N_acc': N_triple_acc\n",
    "})\n",
    "\n",
    "df_acc"
   ]
  },
  {
   "cell_type": "code",
   "execution_count": 29,
   "id": "1b90953a-6695-4c1f-84ce-fcb0b836f3ed",
   "metadata": {},
   "outputs": [],
   "source": [
    "# Calcola e aggiungi le efficienze ai rispettivi DataFrames \n",
    "\n",
    "df_1['epsilon_1'] = df_1['N_triple']/df_1['N_doppie_23']\n",
    "df_1['sigma_epsilon_1'] = np.sqrt(df_1['epsilon_1']/df_1['N_doppie_23'] * (1 - df_1['epsilon_1']))\n"
   ]
  },
  {
   "cell_type": "code",
   "execution_count": 30,
   "id": "2f948877-cd36-4421-8898-576a7633677f",
   "metadata": {},
   "outputs": [],
   "source": [
    "# Crea degli array con i valori delle efficienze per creare\n",
    "# un DataFrame separato\n",
    "\n",
    "epsilon_1 = df_1['epsilon_1']\n",
    "sigma_epsilon_1 = df_1['sigma_epsilon_1']"
   ]
  },
  {
   "cell_type": "code",
   "execution_count": 31,
   "id": "5be81a78-250e-49a8-bf08-8706ced22e57",
   "metadata": {},
   "outputs": [],
   "source": [
    "# DataFrame delle efficienze \n",
    "\n",
    "df_eff = pd.DataFrame({\n",
    "    'epsilon_1' : epsilon_1,\n",
    "    'sigma_epsilon_1' : sigma_epsilon_1,\n",
    "    \n",
    "})"
   ]
  },
  {
   "cell_type": "code",
   "execution_count": 32,
   "id": "96ec49a9-51f0-4de5-a051-203305c1c80b",
   "metadata": {},
   "outputs": [
    {
     "data": {
      "text/html": [
       "<div>\n",
       "<style scoped>\n",
       "    .dataframe tbody tr th:only-of-type {\n",
       "        vertical-align: middle;\n",
       "    }\n",
       "\n",
       "    .dataframe tbody tr th {\n",
       "        vertical-align: top;\n",
       "    }\n",
       "\n",
       "    .dataframe thead th {\n",
       "        text-align: right;\n",
       "    }\n",
       "</style>\n",
       "<table border=\"1\" class=\"dataframe\">\n",
       "  <thead>\n",
       "    <tr style=\"text-align: right;\">\n",
       "      <th></th>\n",
       "      <th>epsilon_1</th>\n",
       "      <th>sigma_epsilon_1</th>\n",
       "    </tr>\n",
       "  </thead>\n",
       "  <tbody>\n",
       "    <tr>\n",
       "      <th>0</th>\n",
       "      <td>0.994216</td>\n",
       "      <td>0.001004</td>\n",
       "    </tr>\n",
       "    <tr>\n",
       "      <th>1</th>\n",
       "      <td>0.993615</td>\n",
       "      <td>0.001046</td>\n",
       "    </tr>\n",
       "    <tr>\n",
       "      <th>2</th>\n",
       "      <td>0.991472</td>\n",
       "      <td>0.001213</td>\n",
       "    </tr>\n",
       "    <tr>\n",
       "      <th>3</th>\n",
       "      <td>0.985242</td>\n",
       "      <td>0.001608</td>\n",
       "    </tr>\n",
       "    <tr>\n",
       "      <th>4</th>\n",
       "      <td>0.973424</td>\n",
       "      <td>0.002120</td>\n",
       "    </tr>\n",
       "    <tr>\n",
       "      <th>5</th>\n",
       "      <td>0.878777</td>\n",
       "      <td>0.004351</td>\n",
       "    </tr>\n",
       "  </tbody>\n",
       "</table>\n",
       "</div>"
      ],
      "text/plain": [
       "   epsilon_1  sigma_epsilon_1\n",
       "0   0.994216         0.001004\n",
       "1   0.993615         0.001046\n",
       "2   0.991472         0.001213\n",
       "3   0.985242         0.001608\n",
       "4   0.973424         0.002120\n",
       "5   0.878777         0.004351"
      ]
     },
     "execution_count": 32,
     "metadata": {},
     "output_type": "execute_result"
    }
   ],
   "source": [
    "df_eff"
   ]
  },
  {
   "cell_type": "code",
   "execution_count": 33,
   "id": "d91ed0bd-2c6a-4ab4-ba87-94abf27cd5c5",
   "metadata": {},
   "outputs": [
    {
     "data": {
      "image/png": "[encoded data removed]",
      "text/plain": [
       "<Figure size 1000x600 with 1 Axes>"
      ]
     },
     "metadata": {},
     "output_type": "display_data"
    }
   ],
   "source": [
    "plt.figure(figsize=(10, 6))\n",
    "\n",
    "plt.plot(df_1['Th [meV]'], df_1['N_singole_1'], linestyle='-', marker='o', linewidth=1.7,color='b', alpha=0.6) # add \"marker = 'o'\" if you need the markers\n",
    "\n",
    "plt.title('Counts per Minute vs Threshold Voltage',fontsize=15)\n",
    "plt.xlabel('Th [mV]',fontsize=14)\n",
    "plt.ylabel('Counts/min',fontsize=14)\n",
    "plt.yscale('log')\n",
    "plt.grid(True, color='lightgray',alpha=0.5)\n",
    "\n",
    "plt.xticks(ticks=[0, 10, 20, 30, 40, 50, 60, 70, 80, 90, 100, 110, 120, 130, 140, 150, 170, 200, 230, 250], fontsize=12)\n",
    "# Uncomment if needed (comment the previous line): \n",
    "# plt.xticks(df_800V['Th [mV]'])  # Optional: set x-ticks to match Th values\n",
    "plt.yticks(fontsize=12)\n",
    "\n",
    "# Add the fixed value of V to the plot :\n",
    "# plt.text(40, 6000, 'V = 1150 V', fontsize=18, bbox=dict(facecolor='white', alpha=0.7, edgecolor='black'))\n",
    "\n",
    "plt.show()"
   ]
  },
  {
   "cell_type": "code",
   "execution_count": 34,
   "id": "a77665d9-1d05-4637-a57b-6b177c663f85",
   "metadata": {},
   "outputs": [
    {
     "data": {
      "image/png": "[encoded data removed]",
      "text/plain": [
       "<Figure size 1000x600 with 1 Axes>"
      ]
     },
     "metadata": {},
     "output_type": "display_data"
    }
   ],
   "source": [
    "plt.figure(figsize=(10, 6))\n",
    "\n",
    "# Plot with error bars\n",
    "plt.errorbar(df_1['Th [meV]'], df_1['epsilon_1'], markersize = 4,\n",
    "             yerr=df_1['sigma_epsilon_1'],   # Error bar values\n",
    "             fmt='o', linewidth=0, color='black',  # Marker and line settings\n",
    "             ecolor='gray', elinewidth=1, capsize=3)  # Error bar style\n",
    "\n",
    "plt.title('Efficiency vs Threshold Voltage', fontsize=15)\n",
    "plt.xlabel('Th [mV]', fontsize=14)\n",
    "plt.ylabel('efficiency', fontsize=14)\n",
    "plt.grid(True, color='lightgray', alpha=0.5)\n",
    "\n",
    "plt.xticks(ticks=[0, 10, 20, 30, 40, 50, 60, 70, 80], fontsize=12)\n",
    "# Uncomment if needed (comment the previous line): \n",
    "# plt.xticks(df_800V['Th [mV]'])  # Optional: set x-ticks to match Th values\n",
    "plt.yticks(fontsize=12)\n",
    "\n",
    "# Add the fixed value of V to the plot:\n",
    "# plt.text(40, 60000, 'V = 1000 V', fontsize=18, bbox=dict(facecolor='white', alpha=0.7, edgecolor='black'))\n",
    "\n",
    "plt.show()\n"
   ]
  },
  {
   "cell_type": "code",
   "execution_count": null,
   "id": "ca89663c-c9b4-415d-84d9-483775e68ceb",
   "metadata": {},
   "outputs": [],
   "source": []
  },
  {
   "cell_type": "markdown",
   "id": "20566c82-8507-42ba-885f-e90a52f31206",
   "metadata": {},
   "source": [
    "## V = 1200 V"
   ]
  },
  {
   "cell_type": "code",
   "execution_count": 4,
   "id": "3da27606-e5af-4db5-b1bb-4820715321ce",
   "metadata": {},
   "outputs": [],
   "source": [
    "# Rivelatore 1 : le doppie sono 2,3\n",
    "\n",
    "data_2 = {\n",
    "        'V [V]': np.full(7, 1200),\n",
    "        'Th [meV]' : [0, 10, 15, 20, 25, 30, 40],\n",
    "    \n",
    "        'N_singole_1': [356849, 122792, 81271, 58425, 43843,\n",
    "                        34813, 22441, ],\n",
    "        'N_singole_2': [8047, 8089, 8161, 8103, 8093,\n",
    "                        8216, 8083,],\n",
    "        'N_singole_3': [8701, 8682, 8750, 8747, 8762,\n",
    "                        8665, 8620,],\n",
    "    \n",
    "        'N_doppie_12' : [6778, 6744, 6706, 6669, 6649,\n",
    "                         6664, 6251,],\n",
    "        'N_doppie_13' : [7095, 7021, 7008, 6965, 6974,\n",
    "                         6768, 6504,],\n",
    "        'N_doppie_23' : [5636, 5660, 5682, 5642, 5736,\n",
    "                         5697, 5668],\n",
    "    \n",
    "        'N_triple' : [5608, 5626, 5639, 5606, 5674,\n",
    "                      5557, 5263],\n",
    "}\n",
    "df_2 = pd.DataFrame(data_2)"
   ]
  },
  {
   "cell_type": "code",
   "execution_count": 5,
   "id": "9e1994ef-2bac-46b1-bbc8-388f71710fa0",
   "metadata": {},
   "outputs": [],
   "source": [
    "# Doppie accidentali : \n",
    "delta_t = 50*10**(-9) # s\n",
    "\n",
    "N_doppie_acc_12 = df_2['N_singole_1']/(5*60) * df_2['N_singole_2']/(5*60) * delta_t\n",
    "N_doppie_acc_13 = df_2['N_singole_1']/(5*60) * df_2['N_singole_3']/(5*60) * delta_t\n",
    "N_doppie_acc_23 = df_2['N_singole_2']/(5*60) * df_2['N_singole_3']/(5*60) * delta_t\n",
    "\n",
    "# Coincidenze triple : \n",
    "N_triple_acc = df_2['N_singole_1']/(5*60) * df_2['N_singole_2']/(5*60) * df_2['N_singole_3']/(5*60) * delta_t * delta_t"
   ]
  },
  {
   "cell_type": "code",
   "execution_count": 6,
   "id": "35246dd7-27bb-4c8c-8556-53f5357d0837",
   "metadata": {},
   "outputs": [
    {
     "data": {
      "text/html": [
       "<div>\n",
       "<style scoped>\n",
       "    .dataframe tbody tr th:only-of-type {\n",
       "        vertical-align: middle;\n",
       "    }\n",
       "\n",
       "    .dataframe tbody tr th {\n",
       "        vertical-align: top;\n",
       "    }\n",
       "\n",
       "    .dataframe thead th {\n",
       "        text-align: right;\n",
       "    }\n",
       "</style>\n",
       "<table border=\"1\" class=\"dataframe\">\n",
       "  <thead>\n",
       "    <tr style=\"text-align: right;\">\n",
       "      <th></th>\n",
       "      <th>N_acc_12</th>\n",
       "      <th>N_acc_13</th>\n",
       "      <th>N_acc_23</th>\n",
       "      <th>N_acc</th>\n",
       "    </tr>\n",
       "  </thead>\n",
       "  <tbody>\n",
       "    <tr>\n",
       "      <th>0</th>\n",
       "      <td>0.001595</td>\n",
       "      <td>0.001725</td>\n",
       "      <td>0.000039</td>\n",
       "      <td>2.313470e-09</td>\n",
       "    </tr>\n",
       "    <tr>\n",
       "      <th>1</th>\n",
       "      <td>0.000552</td>\n",
       "      <td>0.000592</td>\n",
       "      <td>0.000039</td>\n",
       "      <td>7.984743e-10</td>\n",
       "    </tr>\n",
       "    <tr>\n",
       "      <th>2</th>\n",
       "      <td>0.000368</td>\n",
       "      <td>0.000395</td>\n",
       "      <td>0.000040</td>\n",
       "      <td>5.373575e-10</td>\n",
       "    </tr>\n",
       "    <tr>\n",
       "      <th>3</th>\n",
       "      <td>0.000263</td>\n",
       "      <td>0.000284</td>\n",
       "      <td>0.000039</td>\n",
       "      <td>3.834246e-10</td>\n",
       "    </tr>\n",
       "    <tr>\n",
       "      <th>4</th>\n",
       "      <td>0.000197</td>\n",
       "      <td>0.000213</td>\n",
       "      <td>0.000039</td>\n",
       "      <td>2.878653e-10</td>\n",
       "    </tr>\n",
       "    <tr>\n",
       "      <th>5</th>\n",
       "      <td>0.000159</td>\n",
       "      <td>0.000168</td>\n",
       "      <td>0.000040</td>\n",
       "      <td>2.294810e-10</td>\n",
       "    </tr>\n",
       "    <tr>\n",
       "      <th>6</th>\n",
       "      <td>0.000101</td>\n",
       "      <td>0.000107</td>\n",
       "      <td>0.000039</td>\n",
       "      <td>1.447766e-10</td>\n",
       "    </tr>\n",
       "  </tbody>\n",
       "</table>\n",
       "</div>"
      ],
      "text/plain": [
       "   N_acc_12  N_acc_13  N_acc_23         N_acc\n",
       "0  0.001595  0.001725  0.000039  2.313470e-09\n",
       "1  0.000552  0.000592  0.000039  7.984743e-10\n",
       "2  0.000368  0.000395  0.000040  5.373575e-10\n",
       "3  0.000263  0.000284  0.000039  3.834246e-10\n",
       "4  0.000197  0.000213  0.000039  2.878653e-10\n",
       "5  0.000159  0.000168  0.000040  2.294810e-10\n",
       "6  0.000101  0.000107  0.000039  1.447766e-10"
      ]
     },
     "execution_count": 6,
     "metadata": {},
     "output_type": "execute_result"
    }
   ],
   "source": [
    "df_acc = pd.DataFrame({\n",
    "    'N_acc_12': N_doppie_acc_12,\n",
    "    'N_acc_13': N_doppie_acc_13,\n",
    "    'N_acc_23': N_doppie_acc_23,\n",
    "    'N_acc': N_triple_acc\n",
    "})\n",
    "\n",
    "df_acc"
   ]
  },
  {
   "cell_type": "code",
   "execution_count": 7,
   "id": "a04a962b-bb54-48d9-aed6-51b5ee51f695",
   "metadata": {},
   "outputs": [],
   "source": [
    "# Calcola e aggiungi le efficienze ai rispettivi DataFrames \n",
    "\n",
    "df_2['epsilon_1'] = df_2['N_triple']/df_2['N_doppie_23']\n",
    "df_2['sigma_epsilon_1'] = np.sqrt(df_2['epsilon_1']/df_2['N_doppie_23'] * (1 - df_2['epsilon_1']))\n"
   ]
  },
  {
   "cell_type": "code",
   "execution_count": 8,
   "id": "a8b055af-101c-45e8-843c-82584ab5ac3b",
   "metadata": {},
   "outputs": [],
   "source": [
    "# Crea degli array con i valori delle efficienze per creare\n",
    "# un DataFrame separato\n",
    "\n",
    "epsilon_1 = df_2['epsilon_1']\n",
    "sigma_epsilon_1 = df_2['sigma_epsilon_1']"
   ]
  },
  {
   "cell_type": "code",
   "execution_count": 9,
   "id": "c15cd26b-77ab-4cae-9d2c-4eb682392261",
   "metadata": {},
   "outputs": [],
   "source": [
    "# DataFrame delle efficienze \n",
    "\n",
    "df_eff = pd.DataFrame({\n",
    "    'epsilon_1' : epsilon_1,\n",
    "    'sigma_epsilon_1' : sigma_epsilon_1,\n",
    "    \n",
    "})"
   ]
  },
  {
   "cell_type": "code",
   "execution_count": 10,
   "id": "990ca61a-3f4e-4115-9fea-5bd38dd53f63",
   "metadata": {},
   "outputs": [
    {
     "data": {
      "text/html": [
       "<div>\n",
       "<style scoped>\n",
       "    .dataframe tbody tr th:only-of-type {\n",
       "        vertical-align: middle;\n",
       "    }\n",
       "\n",
       "    .dataframe tbody tr th {\n",
       "        vertical-align: top;\n",
       "    }\n",
       "\n",
       "    .dataframe thead th {\n",
       "        text-align: right;\n",
       "    }\n",
       "</style>\n",
       "<table border=\"1\" class=\"dataframe\">\n",
       "  <thead>\n",
       "    <tr style=\"text-align: right;\">\n",
       "      <th></th>\n",
       "      <th>epsilon_1</th>\n",
       "      <th>sigma_epsilon_1</th>\n",
       "    </tr>\n",
       "  </thead>\n",
       "  <tbody>\n",
       "    <tr>\n",
       "      <th>0</th>\n",
       "      <td>0.995032</td>\n",
       "      <td>0.000937</td>\n",
       "    </tr>\n",
       "    <tr>\n",
       "      <th>1</th>\n",
       "      <td>0.993993</td>\n",
       "      <td>0.001027</td>\n",
       "    </tr>\n",
       "    <tr>\n",
       "      <th>2</th>\n",
       "      <td>0.992432</td>\n",
       "      <td>0.001150</td>\n",
       "    </tr>\n",
       "    <tr>\n",
       "      <th>3</th>\n",
       "      <td>0.993619</td>\n",
       "      <td>0.001060</td>\n",
       "    </tr>\n",
       "    <tr>\n",
       "      <th>4</th>\n",
       "      <td>0.989191</td>\n",
       "      <td>0.001365</td>\n",
       "    </tr>\n",
       "    <tr>\n",
       "      <th>5</th>\n",
       "      <td>0.975426</td>\n",
       "      <td>0.002051</td>\n",
       "    </tr>\n",
       "    <tr>\n",
       "      <th>6</th>\n",
       "      <td>0.928546</td>\n",
       "      <td>0.003421</td>\n",
       "    </tr>\n",
       "  </tbody>\n",
       "</table>\n",
       "</div>"
      ],
      "text/plain": [
       "   epsilon_1  sigma_epsilon_1\n",
       "0   0.995032         0.000937\n",
       "1   0.993993         0.001027\n",
       "2   0.992432         0.001150\n",
       "3   0.993619         0.001060\n",
       "4   0.989191         0.001365\n",
       "5   0.975426         0.002051\n",
       "6   0.928546         0.003421"
      ]
     },
     "execution_count": 10,
     "metadata": {},
     "output_type": "execute_result"
    }
   ],
   "source": [
    "df_eff"
   ]
  },
  {
   "cell_type": "code",
   "execution_count": 11,
   "id": "99a50f07-34fd-4b73-b02b-b7450c85a35d",
   "metadata": {},
   "outputs": [
    {
     "data": {
      "image/png": "[encoded data removed]",
      "text/plain": [
       "<Figure size 1000x600 with 1 Axes>"
      ]
     },
     "metadata": {},
     "output_type": "display_data"
    }
   ],
   "source": [
    "plt.figure(figsize=(10, 6))\n",
    "\n",
    "plt.plot(df_2['Th [meV]'], df_2['N_singole_1'], linestyle='-', marker='o', linewidth=1.7,color='b', alpha=0.6) # add \"marker = 'o'\" if you need the markers\n",
    "\n",
    "plt.title('Counts per Minute vs Threshold Voltage',fontsize=15)\n",
    "plt.xlabel('Th [mV]',fontsize=14)\n",
    "plt.ylabel('Counts/min',fontsize=14)\n",
    "plt.yscale('log')\n",
    "plt.grid(True, color='lightgray',alpha=0.5)\n",
    "\n",
    "plt.xticks(ticks=[0, 10, 20, 30, 40, 50, 60, 70, 80], fontsize=12)\n",
    "# Uncomment if needed (comment the previous line): \n",
    "# plt.xticks(df_800V['Th [mV]'])  # Optional: set x-ticks to match Th values\n",
    "plt.yticks(fontsize=12)\n",
    "\n",
    "# Add the fixed value of V to the plot :\n",
    "#plt.text(40, 6000, 'V = 1200 V', fontsize=18, bbox=dict(facecolor='white', alpha=0.7, edgecolor='black'))\n",
    "\n",
    "plt.show()"
   ]
  },
  {
   "cell_type": "code",
   "execution_count": 12,
   "id": "858908a9-1640-4d94-a093-6eb9eb3e5f33",
   "metadata": {},
   "outputs": [
    {
     "data": {
      "image/png": "[encoded data removed]",
      "text/plain": [
       "<Figure size 1000x600 with 1 Axes>"
      ]
     },
     "metadata": {},
     "output_type": "display_data"
    }
   ],
   "source": [
    "plt.figure(figsize=(10, 6))\n",
    "\n",
    "# Plot with error bars\n",
    "plt.errorbar(df_2['Th [meV]'], df_2['epsilon_1'], markersize = 4,\n",
    "             yerr=df_2['sigma_epsilon_1'],   # Error bar values\n",
    "             fmt='o', linewidth=0, color='black',  # Marker and line settings\n",
    "             ecolor='gray', elinewidth=1, capsize=3)  # Error bar style\n",
    "\n",
    "plt.title('Efficiency vs Threshold Voltage', fontsize=15)\n",
    "plt.xlabel('Th [mV]', fontsize=14)\n",
    "plt.ylabel('efficiency', fontsize=14)\n",
    "plt.grid(True, color='lightgray', alpha=0.5)\n",
    "\n",
    "plt.xticks(ticks=[0, 10, 20, 30, 40, 50, 60, 70, 80], fontsize=12)\n",
    "# Uncomment if needed (comment the previous line): \n",
    "# plt.xticks(df_800V['Th [mV]'])  # Optional: set x-ticks to match Th values\n",
    "plt.yticks(fontsize=12)\n",
    "plt.ylim(0.9, 1.01)\n",
    "\n",
    "# Add the fixed value of V to the plot:\n",
    "# plt.text(40, 60000, 'V = 1000 V', fontsize=18, bbox=dict(facecolor='white', alpha=0.7, edgecolor='black'))\n",
    "\n",
    "plt.show()"
   ]
  },
  {
   "cell_type": "markdown",
   "id": "1a3bb193-0cbd-429c-af00-2119d07f5b16",
   "metadata": {},
   "source": [
    "## V = 1100 V"
   ]
  },
  {
   "cell_type": "code",
   "execution_count": 88,
   "id": "edf6ff9a-2aa0-4bd9-bf85-4b7463c4c751",
   "metadata": {},
   "outputs": [],
   "source": [
    "# Rivelatore 1 : le doppie sono 2,3\n",
    "\n",
    "data_3 = {\n",
    "        'V [V]': np.full(9, 1100),\n",
    "        'Th [meV]' : [0, 5, 10, 15, 20, 25, 30, 50, 70,],\n",
    "    \n",
    "        'N_singole_1': [219311, 197441, 141153, 106719, 80962, 63119, 50751, 25201, 14353,],\n",
    "        'N_singole_2': [8108, 7998, 7844, 7865, 7604, 7840, 8010, 8006, 7879, ],\n",
    "        'N_singole_3': [8639, 8520, 8647, 8496, 8345, 8496, 8618, 8538, 8447, ],\n",
    "    \n",
    "        'N_doppie_12' : [6832, 6714, 6544, 6522, 6325, 6465, 6631, 6342, 5372, ],\n",
    "        'N_doppie_13' : [7051, 6934, 6950, 6818, 6640, 6729, 6897, 6536, 5531, ],\n",
    "        'N_doppie_23' : [5660, 5570, 5565, 5500, 5362, 5491, 5633, 5645, 5463, ],\n",
    "    \n",
    "        'N_triple' : [5624, 5528, 5523, 5460, 5323, 5442, 5573, 5321, 4422],\n",
    "}\n",
    "df_3 = pd.DataFrame(data_3)"
   ]
  },
  {
   "cell_type": "code",
   "execution_count": 89,
   "id": "9ea24bad-d147-4254-a09f-ca56b94f6d6d",
   "metadata": {},
   "outputs": [],
   "source": [
    "# Doppie accidentali : \n",
    "delta_t = 50*10**(-9) # s\n",
    "\n",
    "N_doppie_acc_12 = df_3['N_singole_1']/(5*60) * df_3['N_singole_2']/(5*60) * delta_t\n",
    "N_doppie_acc_13 = df_3['N_singole_1']/(5*60) * df_3['N_singole_3']/(5*60) * delta_t\n",
    "N_doppie_acc_23 = df_3['N_singole_2']/(5*60) * df_3['N_singole_3']/(5*60) * delta_t\n",
    "\n",
    "# Coincidenze triple : \n",
    "N_triple_acc = df_3['N_singole_1']/(5*60) * df_3['N_singole_2']/(5*60) * df_3['N_singole_3']/(5*60) * delta_t * delta_t"
   ]
  },
  {
   "cell_type": "code",
   "execution_count": 90,
   "id": "9b89a65f-28e4-4512-9bc3-c478e7e2f2c3",
   "metadata": {},
   "outputs": [
    {
     "data": {
      "text/html": [
       "<div>\n",
       "<style scoped>\n",
       "    .dataframe tbody tr th:only-of-type {\n",
       "        vertical-align: middle;\n",
       "    }\n",
       "\n",
       "    .dataframe tbody tr th {\n",
       "        vertical-align: top;\n",
       "    }\n",
       "\n",
       "    .dataframe thead th {\n",
       "        text-align: right;\n",
       "    }\n",
       "</style>\n",
       "<table border=\"1\" class=\"dataframe\">\n",
       "  <thead>\n",
       "    <tr style=\"text-align: right;\">\n",
       "      <th></th>\n",
       "      <th>N_acc_12</th>\n",
       "      <th>N_acc_13</th>\n",
       "      <th>N_acc_23</th>\n",
       "      <th>N_acc</th>\n",
       "    </tr>\n",
       "  </thead>\n",
       "  <tbody>\n",
       "    <tr>\n",
       "      <th>0</th>\n",
       "      <td>0.000988</td>\n",
       "      <td>0.001053</td>\n",
       "      <td>0.000039</td>\n",
       "      <td>1.422374e-09</td>\n",
       "    </tr>\n",
       "    <tr>\n",
       "      <th>1</th>\n",
       "      <td>0.000877</td>\n",
       "      <td>0.000935</td>\n",
       "      <td>0.000038</td>\n",
       "      <td>1.245761e-09</td>\n",
       "    </tr>\n",
       "    <tr>\n",
       "      <th>2</th>\n",
       "      <td>0.000615</td>\n",
       "      <td>0.000678</td>\n",
       "      <td>0.000038</td>\n",
       "      <td>8.864809e-10</td>\n",
       "    </tr>\n",
       "    <tr>\n",
       "      <th>3</th>\n",
       "      <td>0.000466</td>\n",
       "      <td>0.000504</td>\n",
       "      <td>0.000037</td>\n",
       "      <td>6.602847e-10</td>\n",
       "    </tr>\n",
       "    <tr>\n",
       "      <th>4</th>\n",
       "      <td>0.000342</td>\n",
       "      <td>0.000375</td>\n",
       "      <td>0.000035</td>\n",
       "      <td>4.756921e-10</td>\n",
       "    </tr>\n",
       "    <tr>\n",
       "      <th>5</th>\n",
       "      <td>0.000275</td>\n",
       "      <td>0.000298</td>\n",
       "      <td>0.000037</td>\n",
       "      <td>3.892843e-10</td>\n",
       "    </tr>\n",
       "    <tr>\n",
       "      <th>6</th>\n",
       "      <td>0.000226</td>\n",
       "      <td>0.000243</td>\n",
       "      <td>0.000038</td>\n",
       "      <td>3.243843e-10</td>\n",
       "    </tr>\n",
       "    <tr>\n",
       "      <th>7</th>\n",
       "      <td>0.000112</td>\n",
       "      <td>0.000120</td>\n",
       "      <td>0.000038</td>\n",
       "      <td>1.595019e-10</td>\n",
       "    </tr>\n",
       "    <tr>\n",
       "      <th>8</th>\n",
       "      <td>0.000063</td>\n",
       "      <td>0.000067</td>\n",
       "      <td>0.000037</td>\n",
       "      <td>8.844892e-11</td>\n",
       "    </tr>\n",
       "  </tbody>\n",
       "</table>\n",
       "</div>"
      ],
      "text/plain": [
       "   N_acc_12  N_acc_13  N_acc_23         N_acc\n",
       "0  0.000988  0.001053  0.000039  1.422374e-09\n",
       "1  0.000877  0.000935  0.000038  1.245761e-09\n",
       "2  0.000615  0.000678  0.000038  8.864809e-10\n",
       "3  0.000466  0.000504  0.000037  6.602847e-10\n",
       "4  0.000342  0.000375  0.000035  4.756921e-10\n",
       "5  0.000275  0.000298  0.000037  3.892843e-10\n",
       "6  0.000226  0.000243  0.000038  3.243843e-10\n",
       "7  0.000112  0.000120  0.000038  1.595019e-10\n",
       "8  0.000063  0.000067  0.000037  8.844892e-11"
      ]
     },
     "execution_count": 90,
     "metadata": {},
     "output_type": "execute_result"
    }
   ],
   "source": [
    "df_acc = pd.DataFrame({\n",
    "    'N_acc_12': N_doppie_acc_12,\n",
    "    'N_acc_13': N_doppie_acc_13,\n",
    "    'N_acc_23': N_doppie_acc_23,\n",
    "    'N_acc': N_triple_acc\n",
    "})\n",
    "\n",
    "df_acc"
   ]
  },
  {
   "cell_type": "code",
   "execution_count": 91,
   "id": "cc1c3d0c-5fe5-4a4e-a747-ac863fe5194b",
   "metadata": {},
   "outputs": [],
   "source": [
    "# Calcola e aggiungi le efficienze ai rispettivi DataFrames \n",
    "\n",
    "df_3['epsilon_1'] = df_3['N_triple']/df_3['N_doppie_23']\n",
    "df_3['sigma_epsilon_1'] = np.sqrt(df_3['epsilon_1']/df_3['N_doppie_23'] * (1 - df_3['epsilon_1']))"
   ]
  },
  {
   "cell_type": "code",
   "execution_count": 92,
   "id": "edca5bad-4b1a-4133-83ea-a47febf9ad46",
   "metadata": {},
   "outputs": [],
   "source": [
    "# Crea degli array con i valori delle efficienze per creare\n",
    "# un DataFrame separato\n",
    "\n",
    "epsilon_1 = df_3['epsilon_1']\n",
    "sigma_epsilon_1 = df_3['sigma_epsilon_1']"
   ]
  },
  {
   "cell_type": "code",
   "execution_count": 93,
   "id": "1c288269-800a-4328-81cf-bb0835e97ff0",
   "metadata": {},
   "outputs": [
    {
     "data": {
      "text/html": [
       "<div>\n",
       "<style scoped>\n",
       "    .dataframe tbody tr th:only-of-type {\n",
       "        vertical-align: middle;\n",
       "    }\n",
       "\n",
       "    .dataframe tbody tr th {\n",
       "        vertical-align: top;\n",
       "    }\n",
       "\n",
       "    .dataframe thead th {\n",
       "        text-align: right;\n",
       "    }\n",
       "</style>\n",
       "<table border=\"1\" class=\"dataframe\">\n",
       "  <thead>\n",
       "    <tr style=\"text-align: right;\">\n",
       "      <th></th>\n",
       "      <th>epsilon_1</th>\n",
       "      <th>sigma_epsilon_1</th>\n",
       "    </tr>\n",
       "  </thead>\n",
       "  <tbody>\n",
       "    <tr>\n",
       "      <th>0</th>\n",
       "      <td>0.993640</td>\n",
       "      <td>0.001057</td>\n",
       "    </tr>\n",
       "    <tr>\n",
       "      <th>1</th>\n",
       "      <td>0.992460</td>\n",
       "      <td>0.001159</td>\n",
       "    </tr>\n",
       "    <tr>\n",
       "      <th>2</th>\n",
       "      <td>0.992453</td>\n",
       "      <td>0.001160</td>\n",
       "    </tr>\n",
       "    <tr>\n",
       "      <th>3</th>\n",
       "      <td>0.992727</td>\n",
       "      <td>0.001146</td>\n",
       "    </tr>\n",
       "    <tr>\n",
       "      <th>4</th>\n",
       "      <td>0.992727</td>\n",
       "      <td>0.001160</td>\n",
       "    </tr>\n",
       "    <tr>\n",
       "      <th>5</th>\n",
       "      <td>0.991076</td>\n",
       "      <td>0.001269</td>\n",
       "    </tr>\n",
       "    <tr>\n",
       "      <th>6</th>\n",
       "      <td>0.989348</td>\n",
       "      <td>0.001368</td>\n",
       "    </tr>\n",
       "    <tr>\n",
       "      <th>7</th>\n",
       "      <td>0.942604</td>\n",
       "      <td>0.003096</td>\n",
       "    </tr>\n",
       "    <tr>\n",
       "      <th>8</th>\n",
       "      <td>0.809445</td>\n",
       "      <td>0.005314</td>\n",
       "    </tr>\n",
       "  </tbody>\n",
       "</table>\n",
       "</div>"
      ],
      "text/plain": [
       "   epsilon_1  sigma_epsilon_1\n",
       "0   0.993640         0.001057\n",
       "1   0.992460         0.001159\n",
       "2   0.992453         0.001160\n",
       "3   0.992727         0.001146\n",
       "4   0.992727         0.001160\n",
       "5   0.991076         0.001269\n",
       "6   0.989348         0.001368\n",
       "7   0.942604         0.003096\n",
       "8   0.809445         0.005314"
      ]
     },
     "execution_count": 93,
     "metadata": {},
     "output_type": "execute_result"
    }
   ],
   "source": [
    "# DataFrame efficienze : \n",
    "df_eff = pd.DataFrame({\n",
    "    'epsilon_1' : epsilon_1,\n",
    "    'sigma_epsilon_1' : sigma_epsilon_1,\n",
    "    \n",
    "})\n",
    "\n",
    "df_eff"
   ]
  },
  {
   "cell_type": "code",
   "execution_count": 94,
   "id": "962059c2-a096-482d-895f-f219ec7f4f6f",
   "metadata": {},
   "outputs": [
    {
     "data": {
      "image/png": "[encoded data removed]",
      "text/plain": [
       "<Figure size 1000x600 with 1 Axes>"
      ]
     },
     "metadata": {},
     "output_type": "display_data"
    }
   ],
   "source": [
    "plt.figure(figsize=(10, 6))\n",
    "\n",
    "plt.plot(df_3['Th [meV]'], df_3['N_singole_1'], linestyle='-', marker='o', linewidth=1.7,color='b', alpha=0.6) # add \"marker = 'o'\" if you need the markers\n",
    "\n",
    "plt.title('Counts per Minute vs Threshold Voltage',fontsize=15)\n",
    "plt.xlabel('Th [mV]',fontsize=14)\n",
    "plt.ylabel('Counts/min',fontsize=14)\n",
    "plt.yscale('log')\n",
    "plt.grid(True, color='lightgray',alpha=0.5)\n",
    "\n",
    "plt.xticks(ticks=[0, 10, 20, 30, 40, 50, 60, 70, 80], fontsize=12)\n",
    "# Uncomment if needed (comment the previous line): \n",
    "# plt.xticks(df_800V['Th [mV]'])  # Optional: set x-ticks to match Th values\n",
    "plt.yticks(fontsize=12)\n",
    "\n",
    "# Add the fixed value of V to the plot :\n",
    "#plt.text(40, 6000, 'V = 1200 V', fontsize=18, bbox=dict(facecolor='white', alpha=0.7, edgecolor='black'))\n",
    "\n",
    "plt.show()"
   ]
  },
  {
   "cell_type": "code",
   "execution_count": 96,
   "id": "ff6af020-1ef1-43d0-8ab3-bd98b9a546ba",
   "metadata": {},
   "outputs": [
    {
     "data": {
      "image/png": "[encoded data removed]",
      "text/plain": [
       "<Figure size 1000x600 with 1 Axes>"
      ]
     },
     "metadata": {},
     "output_type": "display_data"
    }
   ],
   "source": [
    "plt.figure(figsize=(10, 6))\n",
    "\n",
    "# Plot with error bars\n",
    "plt.errorbar(df_3['Th [meV]'], df_3['epsilon_1'], markersize = 4,\n",
    "             yerr=df_3['sigma_epsilon_1'],   # Error bar values\n",
    "             fmt='o', linewidth=0, color='black',  # Marker and line settings\n",
    "             ecolor='gray', elinewidth=1, capsize=3)  # Error bar style\n",
    "\n",
    "plt.title('Efficiency vs Threshold Voltage', fontsize=15)\n",
    "plt.xlabel('Th [mV]', fontsize=14)\n",
    "plt.ylabel('efficiency', fontsize=14)\n",
    "plt.grid(True, color='lightgray', alpha=0.5)\n",
    "\n",
    "plt.xticks(ticks=[0, 10, 20, 30, 40, 50, 60, 70, 80], fontsize=12)\n",
    "# Uncomment if needed (comment the previous line): \n",
    "# plt.xticks(df_800V['Th [mV]'])  # Optional: set x-ticks to match Th values\n",
    "plt.yticks(fontsize=12)\n",
    "plt.ylim(0.8, 1.05)\n",
    "\n",
    "# Add the fixed value of V to the plot:\n",
    "# plt.text(40, 60000, 'V = 1000 V', fontsize=18, bbox=dict(facecolor='white', alpha=0.7, edgecolor='black'))\n",
    "\n",
    "plt.show()"
   ]
  },
  {
   "cell_type": "code",
   "execution_count": null,
   "id": "23660386-2571-439d-b047-6a07b58a77d8",
   "metadata": {},
   "outputs": [],
   "source": []
  },
  {
   "cell_type": "markdown",
   "id": "373c5ff8-f2ee-4d3e-86ee-7824d2c8700f",
   "metadata": {},
   "source": [
    "## V = 1250 V"
   ]
  },
  {
   "cell_type": "code",
   "execution_count": 124,
   "id": "cb01b7a2-7f2a-43a2-bcc0-3bd14f431790",
   "metadata": {},
   "outputs": [],
   "source": [
    "# Rivelatore 1 : le doppie sono 2,3\n",
    "\n",
    "data_4 = {\n",
    "        'V [V]': np.full(5, 1250),\n",
    "        'Th [meV]' : [0, 5, 10, 15, 20],\n",
    "    \n",
    "        'N_singole_1': [456199, 193459, 137858, 103335, ],\n",
    "        'N_singole_2': [7971, 7784, 7880, 8022, ],\n",
    "        'N_singole_3': [8699, 8440, 8679, 8639, ],\n",
    "    \n",
    "        'N_doppie_12' : [6798, 6575, 6596, 6678, ],\n",
    "        'N_doppie_13' : [7228, 6881, 6964, 6967, ],\n",
    "        'N_doppie_23' : [5658, 5491, 5625, 5621,],\n",
    "    \n",
    "        'N_triple' : [5629, 5453, 5572, 5580],\n",
    "}\n",
    "df_4 = pd.DataFrame(data_4)"
   ]
  },
  {
   "cell_type": "code",
   "execution_count": 125,
   "id": "81cfe6be-ad83-40e1-9634-d237a8a1daf0",
   "metadata": {},
   "outputs": [],
   "source": [
    "# Doppie accidentali : \n",
    "delta_t = 50*10**(-9) # s\n",
    "\n",
    "N_doppie_acc_12 = df_4['N_singole_1']/(5*60) * df_4['N_singole_2']/(5*60) * delta_t\n",
    "N_doppie_acc_13 = df_4['N_singole_1']/(5*60) * df_4['N_singole_3']/(5*60) * delta_t\n",
    "N_doppie_acc_23 = df_4['N_singole_2']/(5*60) * df_4['N_singole_3']/(5*60) * delta_t\n",
    "\n",
    "# Coincidenze triple : \n",
    "N_triple_acc = df_4['N_singole_1']/(5*60) * df_4['N_singole_2']/(5*60) * df_4['N_singole_3']/(5*60) * delta_t * delta_t"
   ]
  },
  {
   "cell_type": "code",
   "execution_count": 126,
   "id": "2a29df2b-089b-45c1-87b9-08bc5fa1286d",
   "metadata": {},
   "outputs": [
    {
     "data": {
      "text/html": [
       "<div>\n",
       "<style scoped>\n",
       "    .dataframe tbody tr th:only-of-type {\n",
       "        vertical-align: middle;\n",
       "    }\n",
       "\n",
       "    .dataframe tbody tr th {\n",
       "        vertical-align: top;\n",
       "    }\n",
       "\n",
       "    .dataframe thead th {\n",
       "        text-align: right;\n",
       "    }\n",
       "</style>\n",
       "<table border=\"1\" class=\"dataframe\">\n",
       "  <thead>\n",
       "    <tr style=\"text-align: right;\">\n",
       "      <th></th>\n",
       "      <th>N_acc_12</th>\n",
       "      <th>N_acc_13</th>\n",
       "      <th>N_acc_23</th>\n",
       "      <th>N_acc</th>\n",
       "    </tr>\n",
       "  </thead>\n",
       "  <tbody>\n",
       "    <tr>\n",
       "      <th>0</th>\n",
       "      <td>0.002020</td>\n",
       "      <td>0.002205</td>\n",
       "      <td>0.000039</td>\n",
       "      <td>2.928955e-09</td>\n",
       "    </tr>\n",
       "    <tr>\n",
       "      <th>1</th>\n",
       "      <td>0.000837</td>\n",
       "      <td>0.000907</td>\n",
       "      <td>0.000036</td>\n",
       "      <td>1.176821e-09</td>\n",
       "    </tr>\n",
       "    <tr>\n",
       "      <th>2</th>\n",
       "      <td>0.000604</td>\n",
       "      <td>0.000665</td>\n",
       "      <td>0.000038</td>\n",
       "      <td>8.729797e-10</td>\n",
       "    </tr>\n",
       "    <tr>\n",
       "      <th>3</th>\n",
       "      <td>0.000461</td>\n",
       "      <td>0.000496</td>\n",
       "      <td>0.000039</td>\n",
       "      <td>6.630859e-10</td>\n",
       "    </tr>\n",
       "  </tbody>\n",
       "</table>\n",
       "</div>"
      ],
      "text/plain": [
       "   N_acc_12  N_acc_13  N_acc_23         N_acc\n",
       "0  0.002020  0.002205  0.000039  2.928955e-09\n",
       "1  0.000837  0.000907  0.000036  1.176821e-09\n",
       "2  0.000604  0.000665  0.000038  8.729797e-10\n",
       "3  0.000461  0.000496  0.000039  6.630859e-10"
      ]
     },
     "execution_count": 126,
     "metadata": {},
     "output_type": "execute_result"
    }
   ],
   "source": [
    "df_acc = pd.DataFrame({\n",
    "    'N_acc_12': N_doppie_acc_12,\n",
    "    'N_acc_13': N_doppie_acc_13,\n",
    "    'N_acc_23': N_doppie_acc_23,\n",
    "    'N_acc': N_triple_acc\n",
    "})\n",
    "\n",
    "df_acc"
   ]
  },
  {
   "cell_type": "code",
   "execution_count": 127,
   "id": "72020b5c-1c93-4f02-a506-3a856c649eb3",
   "metadata": {},
   "outputs": [],
   "source": [
    "# Calcola e aggiungi le efficienze ai rispettivi DataFrames \n",
    "\n",
    "df_4['epsilon_1'] = df_4['N_triple']/df_4['N_doppie_23']\n",
    "df_4['sigma_epsilon_1'] = np.sqrt(df_4['epsilon_1']/df_4['N_doppie_23'] * (1 - df_4['epsilon_1']))"
   ]
  },
  {
   "cell_type": "code",
   "execution_count": 128,
   "id": "11da8fa1-6779-4bf1-a14e-5b8683e8d70e",
   "metadata": {},
   "outputs": [],
   "source": [
    "# Crea degli array con i valori delle efficienze per creare\n",
    "# un DataFrame separato\n",
    "\n",
    "epsilon_1 = df_4['epsilon_1']\n",
    "sigma_epsilon_1 = df_4['sigma_epsilon_1']"
   ]
  },
  {
   "cell_type": "code",
   "execution_count": 129,
   "id": "0745de94-6936-414a-937e-e47065c4b878",
   "metadata": {},
   "outputs": [
    {
     "data": {
      "text/html": [
       "<div>\n",
       "<style scoped>\n",
       "    .dataframe tbody tr th:only-of-type {\n",
       "        vertical-align: middle;\n",
       "    }\n",
       "\n",
       "    .dataframe tbody tr th {\n",
       "        vertical-align: top;\n",
       "    }\n",
       "\n",
       "    .dataframe thead th {\n",
       "        text-align: right;\n",
       "    }\n",
       "</style>\n",
       "<table border=\"1\" class=\"dataframe\">\n",
       "  <thead>\n",
       "    <tr style=\"text-align: right;\">\n",
       "      <th></th>\n",
       "      <th>epsilon_1</th>\n",
       "      <th>sigma_epsilon_1</th>\n",
       "    </tr>\n",
       "  </thead>\n",
       "  <tbody>\n",
       "    <tr>\n",
       "      <th>0</th>\n",
       "      <td>0.994875</td>\n",
       "      <td>0.000949</td>\n",
       "    </tr>\n",
       "    <tr>\n",
       "      <th>1</th>\n",
       "      <td>0.993080</td>\n",
       "      <td>0.001119</td>\n",
       "    </tr>\n",
       "    <tr>\n",
       "      <th>2</th>\n",
       "      <td>0.990578</td>\n",
       "      <td>0.001288</td>\n",
       "    </tr>\n",
       "    <tr>\n",
       "      <th>3</th>\n",
       "      <td>0.992706</td>\n",
       "      <td>0.001135</td>\n",
       "    </tr>\n",
       "  </tbody>\n",
       "</table>\n",
       "</div>"
      ],
      "text/plain": [
       "   epsilon_1  sigma_epsilon_1\n",
       "0   0.994875         0.000949\n",
       "1   0.993080         0.001119\n",
       "2   0.990578         0.001288\n",
       "3   0.992706         0.001135"
      ]
     },
     "execution_count": 129,
     "metadata": {},
     "output_type": "execute_result"
    }
   ],
   "source": [
    "# DataFrame efficienze : \n",
    "df_eff = pd.DataFrame({\n",
    "    'epsilon_1' : epsilon_1,\n",
    "    'sigma_epsilon_1' : sigma_epsilon_1,\n",
    "    \n",
    "})\n",
    "\n",
    "df_eff"
   ]
  },
  {
   "cell_type": "code",
   "execution_count": 130,
   "id": "283a7fd9-e87f-40f5-9ee0-dc4d54467cfd",
   "metadata": {},
   "outputs": [
    {
     "data": {
      "image/png": "[encoded data removed]",
      "text/plain": [
       "<Figure size 1000x600 with 1 Axes>"
      ]
     },
     "metadata": {},
     "output_type": "display_data"
    }
   ],
   "source": [
    "plt.figure(figsize=(10, 6))\n",
    "\n",
    "plt.plot(df_4['Th [meV]'], df_4['N_singole_1'], linestyle='-', marker='o', linewidth=1.7,color='b', alpha=0.6) # add \"marker = 'o'\" if you need the markers\n",
    "\n",
    "plt.title('Counts per Minute vs Threshold Voltage',fontsize=15)\n",
    "plt.xlabel('Th [mV]',fontsize=14)\n",
    "plt.ylabel('Counts/min',fontsize=14)\n",
    "plt.yscale('log')\n",
    "plt.grid(True, color='lightgray',alpha=0.5)\n",
    "\n",
    "plt.xticks(ticks=[0, 10, 20, 30, 40, 50, 60, 70, 80], fontsize=12)\n",
    "# Uncomment if needed (comment the previous line): \n",
    "# plt.xticks(df_800V['Th [mV]'])  # Optional: set x-ticks to match Th values\n",
    "plt.yticks(fontsize=12)\n",
    "\n",
    "# Add the fixed value of V to the plot :\n",
    "#plt.text(40, 6000, 'V = 1200 V', fontsize=18, bbox=dict(facecolor='white', alpha=0.7, edgecolor='black'))\n",
    "\n",
    "plt.show()"
   ]
  },
  {
   "cell_type": "code",
   "execution_count": 131,
   "id": "727f6d8b-e396-473a-a666-4e3597241b50",
   "metadata": {},
   "outputs": [
    {
     "data": {
      "image/png": "[encoded data removed]",
      "text/plain": [
       "<Figure size 1000x600 with 1 Axes>"
      ]
     },
     "metadata": {},
     "output_type": "display_data"
    }
   ],
   "source": [
    "plt.figure(figsize=(10, 6))\n",
    "\n",
    "# Plot with error bars\n",
    "plt.errorbar(df_4['Th [meV]'], df_4['epsilon_1'], markersize = 4,\n",
    "             yerr=df_4['sigma_epsilon_1'],   # Error bar values\n",
    "             fmt='o', linewidth=0, color='black',  # Marker and line settings\n",
    "             ecolor='gray', elinewidth=1, capsize=3)  # Error bar style\n",
    "\n",
    "plt.title('Efficiency vs Threshold Voltage', fontsize=15)\n",
    "plt.xlabel('Th [mV]', fontsize=14)\n",
    "plt.ylabel('efficiency', fontsize=14)\n",
    "plt.grid(True, color='lightgray', alpha=0.5)\n",
    "\n",
    "plt.xticks(ticks=[0, 10, 20, 30, 40, 50, 60, 70, 80], fontsize=12)\n",
    "# Uncomment if needed (comment the previous line): \n",
    "# plt.xticks(df_800V['Th [mV]'])  # Optional: set x-ticks to match Th values\n",
    "plt.yticks(fontsize=12)\n",
    "plt.ylim(0.9, 1.05)\n",
    "\n",
    "# Add the fixed value of V to the plot:\n",
    "# plt.text(40, 60000, 'V = 1000 V', fontsize=18, bbox=dict(facecolor='white', alpha=0.7, edgecolor='black'))\n",
    "\n",
    "plt.show()"
   ]
  },
  {
   "cell_type": "code",
   "execution_count": null,
   "id": "203a2f10-947d-433b-9726-c696626203eb",
   "metadata": {},
   "outputs": [],
   "source": []
  },
  {
   "cell_type": "markdown",
   "id": "9d02d5b4-c7c0-4f40-ab33-9d5eb09ca101",
   "metadata": {},
   "source": [
    "# V = V"
   ]
  },
  {
   "cell_type": "code",
   "execution_count": null,
   "id": "49efc8fe-4d50-44e2-b165-89535d28cf8b",
   "metadata": {},
   "outputs": [],
   "source": [
    "# Rivelatore 1 : le doppie sono 2,3\n",
    "\n",
    "data_5 = {\n",
    "        'V [V]': np.full(1,),\n",
    "        'Th [meV]' : [0, ],\n",
    "    \n",
    "        'N_singole_1': [ ],\n",
    "        'N_singole_2': [],\n",
    "        'N_singole_3': [ ],\n",
    "    \n",
    "        'N_doppie_12' : [ ],\n",
    "        'N_doppie_13' : [],\n",
    "        'N_doppie_23' : [],\n",
    "    \n",
    "        'N_triple' : [],\n",
    "}\n",
    "df_5 = pd.DataFrame(data_5)"
   ]
  },
  {
   "cell_type": "code",
   "execution_count": null,
   "id": "0852681a-d435-41fb-b5a0-55c88f2c6153",
   "metadata": {},
   "outputs": [],
   "source": [
    "# Doppie accidentali : \n",
    "delta_t = 50*10**(-9) # s\n",
    "\n",
    "N_doppie_acc_12 = df_5['N_singole_1']/(5*60) * df_5['N_singole_2']/(5*60) * delta_t\n",
    "N_doppie_acc_13 = df_5['N_singole_1']/(5*60) * df_5['N_singole_3']/(5*60) * delta_t\n",
    "N_doppie_acc_23 = df_5['N_singole_2']/(5*60) * df_5['N_singole_3']/(5*60) * delta_t\n",
    "\n",
    "# Coincidenze triple : \n",
    "N_triple_acc = df_5['N_singole_1']/(5*60) * df_5['N_singole_2']/(5*60) * df_5['N_singole_3']/(5*60) * delta_t * delta_t"
   ]
  },
  {
   "cell_type": "code",
   "execution_count": null,
   "id": "6e733242-fd39-4cd8-8922-fca9d1337668",
   "metadata": {},
   "outputs": [],
   "source": [
    "df_acc = pd.DataFrame({\n",
    "    'N_acc_12': N_doppie_acc_12,\n",
    "    'N_acc_13': N_doppie_acc_13,\n",
    "    'N_acc_23': N_doppie_acc_23,\n",
    "    'N_acc': N_triple_acc\n",
    "})\n",
    "\n",
    "df_acc"
   ]
  },
  {
   "cell_type": "code",
   "execution_count": null,
   "id": "d94f8852-4c20-4f73-9a36-86cac10acb93",
   "metadata": {},
   "outputs": [],
   "source": [
    "# Calcola e aggiungi le efficienze ai rispettivi DataFrames \n",
    "\n",
    "df_5['epsilon_1'] = df_5['N_triple']/df_5['N_doppie_23']\n",
    "df_5['sigma_epsilon_1'] = np.sqrt(df_5['epsilon_1']/df_5['N_doppie_23'] * (1 - df_5['epsilon_1']))"
   ]
  },
  {
   "cell_type": "code",
   "execution_count": null,
   "id": "3dde9cf3-f2a2-445e-9ec8-dc34d827dcfd",
   "metadata": {},
   "outputs": [],
   "source": [
    "# DataFrame efficienze : \n",
    "df_eff = pd.DataFrame({\n",
    "    'epsilon_1' : epsilon_1,\n",
    "    'sigma_epsilon_1' : sigma_epsilon_1,\n",
    "    \n",
    "})\n",
    "\n",
    "df_eff"
   ]
  },
  {
   "cell_type": "code",
   "execution_count": null,
   "id": "746163af-e998-4a20-b354-4b8cbae9456f",
   "metadata": {},
   "outputs": [],
   "source": [
    "plt.figure(figsize=(10, 6))\n",
    "\n",
    "plt.plot(df_5['Th [meV]'], df_5['N_singole_1'], linestyle='-', marker='o', linewidth=1.7,color='b', alpha=0.6) # add \"marker = 'o'\" if you need the markers\n",
    "\n",
    "plt.title('Counts per Minute vs Threshold Voltage',fontsize=15)\n",
    "plt.xlabel('Th [mV]',fontsize=14)\n",
    "plt.ylabel('Counts/min',fontsize=14)\n",
    "plt.yscale('log')\n",
    "plt.grid(True, color='lightgray',alpha=0.5)\n",
    "\n",
    "plt.xticks(ticks=[0, 10, 20, 30, 40, 50, 60, 70, 80], fontsize=12)\n",
    "# Uncomment if needed (comment the previous line): \n",
    "# plt.xticks(df_800V['Th [mV]'])  # Optional: set x-ticks to match Th values\n",
    "plt.yticks(fontsize=12)\n",
    "\n",
    "# Add the fixed value of V to the plot :\n",
    "#plt.text(40, 6000, 'V = 1200 V', fontsize=18, bbox=dict(facecolor='white', alpha=0.7, edgecolor='black'))\n",
    "\n",
    "plt.show()"
   ]
  },
  {
   "cell_type": "code",
   "execution_count": null,
   "id": "8e3a29a2-4e74-43d0-aca2-68e9f94555ac",
   "metadata": {},
   "outputs": [],
   "source": [
    "plt.figure(figsize=(10, 6))\n",
    "\n",
    "# Plot with error bars\n",
    "plt.errorbar(df_5['Th [meV]'], df_5['epsilon_1'], markersize = 4,\n",
    "             yerr=df_5['sigma_epsilon_1'],   # Error bar values\n",
    "             fmt='o', linewidth=0, color='black',  # Marker and line settings\n",
    "             ecolor='gray', elinewidth=1, capsize=3)  # Error bar style\n",
    "\n",
    "plt.title('Efficiency vs Threshold Voltage', fontsize=15)\n",
    "plt.xlabel('Th [mV]', fontsize=14)\n",
    "plt.ylabel('efficiency', fontsize=14)\n",
    "plt.grid(True, color='lightgray', alpha=0.5)\n",
    "\n",
    "plt.xticks(ticks=[0, 10, 20, 30, 40, 50, 60, 70, 80], fontsize=12)\n",
    "# Uncomment if needed (comment the previous line): \n",
    "# plt.xticks(df_800V['Th [mV]'])  # Optional: set x-ticks to match Th values\n",
    "plt.yticks(fontsize=12)\n",
    "plt.ylim(0.9, 1.05)\n",
    "\n",
    "# Add the fixed value of V to the plot:\n",
    "# plt.text(40, 60000, 'V = 1000 V', fontsize=18, bbox=dict(facecolor='white', alpha=0.7, edgecolor='black'))\n",
    "\n",
    "plt.show()"
   ]
  },
  {
   "cell_type": "markdown",
   "id": "55e7bd5f-f644-4ba0-ac30-f5c3c2e93616",
   "metadata": {},
   "source": [
    "# V = V"
   ]
  },
  {
   "cell_type": "code",
   "execution_count": null,
   "id": "c83ef2f5-caac-461a-9149-6ed6cec41fdf",
   "metadata": {},
   "outputs": [],
   "source": [
    "# Rivelatore 1 : le doppie sono 2,3\n",
    "\n",
    "data_6 = {\n",
    "        'V [V]': np.full(1,),\n",
    "        'Th [meV]' : [0, ],\n",
    "    \n",
    "        'N_singole_1': [ ],\n",
    "        'N_singole_2': [],\n",
    "        'N_singole_3': [ ],\n",
    "    \n",
    "        'N_doppie_12' : [ ],\n",
    "        'N_doppie_13' : [],\n",
    "        'N_doppie_23' : [],\n",
    "    \n",
    "        'N_triple' : [],\n",
    "}\n",
    "df_6 = pd.DataFrame(data_6)"
   ]
  },
  {
   "cell_type": "code",
   "execution_count": null,
   "id": "1c5d048b-728f-4cfe-997a-cb1dd0a2c0d6",
   "metadata": {},
   "outputs": [],
   "source": [
    "# Doppie accidentali : \n",
    "delta_t = 50*10**(-9) # s\n",
    "\n",
    "N_doppie_acc_12 = df_6['N_singole_1']/(5*60) * df_6['N_singole_2']/(5*60) * delta_t\n",
    "N_doppie_acc_13 = df_6['N_singole_1']/(5*60) * df_6['N_singole_3']/(5*60) * delta_t\n",
    "N_doppie_acc_23 = df_6['N_singole_2']/(5*60) * df_6['N_singole_3']/(5*60) * delta_t\n",
    "\n",
    "# Coincidenze triple : \n",
    "N_triple_acc = df_6['N_singole_1']/(5*60) * df_6['N_singole_2']/(5*60) * df_6['N_singole_3']/(5*60) * delta_t * delta_t"
   ]
  },
  {
   "cell_type": "code",
   "execution_count": null,
   "id": "06a9f69f-f1fb-4e92-93f9-f3932f49570c",
   "metadata": {},
   "outputs": [],
   "source": [
    "df_acc = pd.DataFrame({\n",
    "    'N_acc_12': N_doppie_acc_12,\n",
    "    'N_acc_13': N_doppie_acc_13,\n",
    "    'N_acc_23': N_doppie_acc_23,\n",
    "    'N_acc': N_triple_acc\n",
    "})\n",
    "\n",
    "df_acc"
   ]
  },
  {
   "cell_type": "code",
   "execution_count": null,
   "id": "80337c37-ae12-4839-abf1-3d0b5d3b01d0",
   "metadata": {},
   "outputs": [],
   "source": [
    "# Calcola e aggiungi le efficienze ai rispettivi DataFrames \n",
    "\n",
    "df_6['epsilon_1'] = df_6['N_triple']/df_6['N_doppie_23']\n",
    "df_6['sigma_epsilon_1'] = np.sqrt(df_6['epsilon_1']/df_6['N_doppie_23'] * (1 - df_6['epsilon_1']))"
   ]
  },
  {
   "cell_type": "code",
   "execution_count": null,
   "id": "e73df41e-dec0-40c8-ac37-16f87dc8d782",
   "metadata": {},
   "outputs": [],
   "source": [
    "# DataFrame efficienze : \n",
    "df_eff = pd.DataFrame({\n",
    "    'epsilon_1' : epsilon_1,\n",
    "    'sigma_epsilon_1' : sigma_epsilon_1,\n",
    "    \n",
    "})\n",
    "\n",
    "df_eff"
   ]
  },
  {
   "cell_type": "code",
   "execution_count": null,
   "id": "23ad9b1c-8485-48eb-b059-1b86ea1e5a4a",
   "metadata": {},
   "outputs": [],
   "source": [
    "plt.figure(figsize=(10, 6))\n",
    "\n",
    "plt.plot(df_6['Th [meV]'], df_6['N_singole_1'], linestyle='-', marker='o', linewidth=1.7,color='b', alpha=0.6) # add \"marker = 'o'\" if you need the markers\n",
    "\n",
    "plt.title('Counts per Minute vs Threshold Voltage',fontsize=15)\n",
    "plt.xlabel('Th [mV]',fontsize=14)\n",
    "plt.ylabel('Counts/min',fontsize=14)\n",
    "plt.yscale('log')\n",
    "plt.grid(True, color='lightgray',alpha=0.5)\n",
    "\n",
    "plt.xticks(ticks=[0, 10, 20, 30, 40, 50, 60, 70, 80], fontsize=12)\n",
    "# Uncomment if needed (comment the previous line): \n",
    "# plt.xticks(df_800V['Th [mV]'])  # Optional: set x-ticks to match Th values\n",
    "plt.yticks(fontsize=12)\n",
    "\n",
    "# Add the fixed value of V to the plot :\n",
    "#plt.text(40, 6000, 'V = 1200 V', fontsize=18, bbox=dict(facecolor='white', alpha=0.7, edgecolor='black'))\n",
    "\n",
    "plt.show()"
   ]
  },
  {
   "cell_type": "code",
   "execution_count": null,
   "id": "3dffb656-6df8-412b-bd5c-268c54d1655f",
   "metadata": {},
   "outputs": [],
   "source": [
    "plt.figure(figsize=(10, 6))\n",
    "\n",
    "# Plot with error bars\n",
    "plt.errorbar(df_5['Th [meV]'], df_5['epsilon_1'], markersize = 4,\n",
    "             yerr=df_5['sigma_epsilon_1'],   # Error bar values\n",
    "             fmt='o', linewidth=0, color='black',  # Marker and line settings\n",
    "             ecolor='gray', elinewidth=1, capsize=3)  # Error bar style\n",
    "\n",
    "plt.title('Efficiency vs Threshold Voltage', fontsize=15)\n",
    "plt.xlabel('Th [mV]', fontsize=14)\n",
    "plt.ylabel('efficiency', fontsize=14)\n",
    "plt.grid(True, color='lightgray', alpha=0.5)\n",
    "\n",
    "plt.xticks(ticks=[0, 10, 20, 30, 40, 50, 60, 70, 80], fontsize=12)\n",
    "# Uncomment if needed (comment the previous line): \n",
    "# plt.xticks(df_800V['Th [mV]'])  # Optional: set x-ticks to match Th values\n",
    "plt.yticks(fontsize=12)\n",
    "plt.ylim(0.9, 1.05)\n",
    "\n",
    "# Add the fixed value of V to the plot:\n",
    "# plt.text(40, 60000, 'V = 1000 V', fontsize=18, bbox=dict(facecolor='white', alpha=0.7, edgecolor='black'))\n",
    "\n",
    "plt.show()"
   ]
  },
  {
   "cell_type": "code",
   "execution_count": null,
   "id": "54e586c8-0348-4555-a45a-62a9130a2003",
   "metadata": {},
   "outputs": [],
   "source": []
  },
  {
   "cell_type": "markdown",
   "id": "8bb887cb-6208-4e07-aace-14a01da1d494",
   "metadata": {},
   "source": [
    "# Summary Plots"
   ]
  },
  {
   "cell_type": "code",
   "execution_count": 107,
   "id": "56b12e5d-a33d-4ae7-b730-3c9a996d89fc",
   "metadata": {},
   "outputs": [
    {
     "data": {
      "image/png": "[encoded data removed]",
      "text/plain": [
       "<Figure size 1200x1200 with 9 Axes>"
      ]
     },
     "metadata": {},
     "output_type": "display_data"
    }
   ],
   "source": [
    "FONT_SIZE = 14\n",
    "FONT_SIZE = 14\n",
    "MARKER_SIZE = 3\n",
    "LINE_WIDTH = 1\n",
    "GRID_COLOR = 'lightgray'\n",
    "GRID_ALPHA = 0.5\n",
    "\n",
    "# List of dataframes and corresponding voltages\n",
    "dataframes = [df_1, df_2, df_3, df_4]#  df_1250V, df_1300V]  # Replace/add your actual dataframes here\n",
    "voltages = [800, 850, 900, 1250]#  1250, 1300]  # Replace/add the corresponding voltage values\n",
    "\n",
    "# Create subplots grid (1 row per dataframe)\n",
    "rows, cols = 3, 3\n",
    "fig, axes = plt.subplots(rows, cols, figsize=(12, 12), sharex=False, sharey=False)\n",
    "\n",
    "# Appiattisci gli assi per iterare facilmente\n",
    "axes_flat = axes.flatten()\n",
    "# Loop over dataframes and axes\n",
    "for i, (df, V) in enumerate(zip(dataframes, voltages)):\n",
    "        ax = axes_flat[i]\n",
    "\n",
    "        ax.errorbar(df['Th [meV]'], df['epsilon_1'], markersize = MARKER_SIZE,\n",
    "                yerr=df['sigma_epsilon_1'],   # Error bar values\n",
    "                fmt='o', linewidth=0, color='black',  # Marker and line settings\n",
    "                ecolor='gray', elinewidth=1, capsize=3)  # Error bar style\n",
    "        \n",
    "        ax.set_title('Efficiency vs Threshold Voltage', fontsize = FONT_SIZE)\n",
    "        ax.set_xlabel('Th [mV]', fontsize = FONT_SIZE)\n",
    "        ax.set_ylabel('efficiency', fontsize = FONT_SIZE)\n",
    "        #ax.set_xticks(ticks=[0, 10, 20, 30, 40, 50, 60, 70, 80], fontsize = FONT_SIZE)\n",
    "        # Uncomment if needed (comment the previous line): \n",
    "        # plt.xticks(df_800V['Th [mV]'])  # Optional: set x-ticks to match Th values\n",
    "        #ax.set_yticks(fontsize = FONT_SIZE)\n",
    "        ax.set_ylim(0.9, 1.05)\n",
    "        ax.grid(True, color='lightgray', alpha = 0.5)\n",
    "\n",
    "\n",
    "# Adjust layout\n",
    "plt.tight_layout()\n",
    "plt.show()"
   ]
  },
  {
   "cell_type": "code",
   "execution_count": null,
   "id": "ed5c96d1-69ef-4231-8b0c-bdcdbd85d1c7",
   "metadata": {},
   "outputs": [],
   "source": []
  }
 ],
 "metadata": {
  "kernelspec": {
   "display_name": "Python 3 (ipykernel)",
   "language": "python",
   "name": "python3"
  },
  "language_info": {
   "codemirror_mode": {
    "name": "ipython",
    "version": 3
   },
   "file_extension": ".py",
   "mimetype": "text/x-python",
   "name": "python",
   "nbconvert_exporter": "python",
   "pygments_lexer": "ipython3",
   "version": "3.11.2"
  }
 },
 "nbformat": 4,
 "nbformat_minor": 5
}
