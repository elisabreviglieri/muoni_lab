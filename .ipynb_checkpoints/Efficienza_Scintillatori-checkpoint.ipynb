{
 "cells": [
  {
   "cell_type": "markdown",
   "id": "5e54848d-93bd-4972-8b5a-f44a9d6eb272",
   "metadata": {},
   "source": [
    "## Misura dell'Efficienza dei Rivelatori (updated to 20th November 2024)\n",
    "\n",
    "Dimensioni rivelatori: \n",
    "\n",
    "\n",
    "\n",
    "Questo notebook contiene la misura dell'efficienza dei tre scintillatori calcolata sfruttando le coincidenze doppie e triple mediante la formula:\n",
    "\n",
    "$\\epsilon_{riv} = \\frac{N_{triple}}{N_{doppie}}$\n",
    "\n",
    "\n",
    "\n",
    "Tensioni: \n",
    "\n",
    "I conteggi vengono effettuati ogni 1 minuto.\n",
    "\n",
    "$\\Delta t$ = 50 $ns$\n",
    "\n",
    "\n",
    "* N.B.: Non si è tenuto conto delle coincidenze accidentali\n"
   ]
  },
  {
   "cell_type": "markdown",
   "id": "bb7bc10c-a333-4e81-9760-b4f5d7a1aeee",
   "metadata": {},
   "source": [
    "### Esempio: Efficienza del Primo Rivelatore\n",
    "\n",
    "Sfruttiamo le coincidenze triple. Le coincidenze doppie sono relative al secondo e al terzo rivelatore: \n",
    "\n",
    "\n",
    "\n",
    "\n",
    "$N_{triple} = N_{\\mu} \\, \\epsilon_1 \\, \\epsilon_2 \\, \\epsilon_3$,\n",
    "\n",
    "$N_{doppie} = N_{\\mu}\\, \\epsilon_2 \\,\\epsilon_3$ $=$ $N_{2,3} $ \n",
    "\n",
    "$\\Rightarrow$ $\\epsilon_1 = \\frac{N_{triple}}{N_{2,3}} $"
   ]
  },
  {
   "cell_type": "code",
   "execution_count": 1,
   "id": "33ef784a-92b0-4097-b12a-1b69350490fa",
   "metadata": {},
   "outputs": [],
   "source": [
    "import pandas as pd\n",
    "import numpy as np\n",
    "import matplotlib.pyplot as plt\n",
    "import seaborn as sns\n",
    "from mpl_toolkits.mplot3d import Axes3D"
   ]
  },
  {
   "cell_type": "code",
   "execution_count": 2,
   "id": "2be7c0e5-ccd5-4c81-a25a-0af889d53a3b",
   "metadata": {},
   "outputs": [],
   "source": [
    "# LateX font:\n",
    "plt.rcParams['text.usetex'] = True\n",
    "plt.rcParams['font.family'] = 'serif'"
   ]
  },
  {
   "cell_type": "markdown",
   "id": "371d66ed-532b-4d4a-a525-dae6b7593f0f",
   "metadata": {},
   "source": [
    "### Crea i DataFrames con tutte le coincidenze doppie e triple"
   ]
  },
  {
   "cell_type": "markdown",
   "id": "d8e91d69-d732-44d1-83e3-c89b34ae0f5a",
   "metadata": {},
   "source": [
    "## Studio dell'Efficienza dello Scintillatore 1\n",
    "\n",
    "* Voltaggi degli Scintillatori 2 e 3:  $V = 1050 \\,V$\n",
    "* Threshold degli Scintillatori 2 e 3:  $Th = 70 \\,meV$\n",
    "\n",
    "\n",
    "Variamo il voltaggio e la threshold per trovare il punto in cui l'efficienza dello Scintillatore 1 è massima."
   ]
  },
  {
   "cell_type": "markdown",
   "id": "ac47e7d9-c10e-436e-8d2d-0ddfa5617333",
   "metadata": {},
   "source": [
    "## V = 900 V"
   ]
  },
  {
   "cell_type": "code",
   "execution_count": 120,
   "id": "b22e983b-6053-47ba-9f37-6fbd53b88029",
   "metadata": {},
   "outputs": [],
   "source": [
    "# Rivelatore 1 : le doppie sono 2,3\n",
    "\n",
    "data_1 = {\n",
    "        'V [V]': np.full(3, 900),\n",
    "        'Th [meV]' : [0, 5, 10, ],\n",
    "    \n",
    "        'N_singole_1': [9370, 1303, 373,],\n",
    "        'N_singole_2': [1660, 1679, 1622,],\n",
    "        'N_singole_3': [1740, 1722, 1726,],\n",
    "    \n",
    "        'N_doppie_12' : [1369, 820, 264,],\n",
    "        'N_doppie_13' : [1391, 826, 276, ],\n",
    "        'N_doppie_23' : [1148, 1192, 1114],\n",
    "    \n",
    "        'N_triple' : [1136, 693, 207],\n",
    "}\n",
    "df_1= pd.DataFrame(data_1)"
   ]
  },
  {
   "cell_type": "code",
   "execution_count": 121,
   "id": "3e578f8c-9acf-4b52-ae35-0e669d6734b8",
   "metadata": {},
   "outputs": [],
   "source": [
    "# Doppie accidentali : \n",
    "delta_t = 50*10**(-9) # s\n",
    "\n",
    "N_doppie_acc_12 = df_1['N_singole_1']/(60) * df_1['N_singole_2']/(60) * delta_t\n",
    "N_doppie_acc_13 = df_1['N_singole_1']/(60) * df_1['N_singole_3']/(60) * delta_t\n",
    "N_doppie_acc_23 = df_1['N_singole_2']/(60) * df_1['N_singole_3']/(60) * delta_t\n",
    "\n",
    "# Coincidenze triple : \n",
    "N_triple_acc = df_1['N_singole_1']/(60) * df_1['N_singole_2']/(60) * df_1['N_singole_3']/(60) * delta_t * delta_t"
   ]
  },
  {
   "cell_type": "code",
   "execution_count": 122,
   "id": "eb802ba6-8b76-46f5-8671-580a881d8a1a",
   "metadata": {},
   "outputs": [
    {
     "data": {
      "text/html": [
       "<div>\n",
       "<style scoped>\n",
       "    .dataframe tbody tr th:only-of-type {\n",
       "        vertical-align: middle;\n",
       "    }\n",
       "\n",
       "    .dataframe tbody tr th {\n",
       "        vertical-align: top;\n",
       "    }\n",
       "\n",
       "    .dataframe thead th {\n",
       "        text-align: right;\n",
       "    }\n",
       "</style>\n",
       "<table border=\"1\" class=\"dataframe\">\n",
       "  <thead>\n",
       "    <tr style=\"text-align: right;\">\n",
       "      <th></th>\n",
       "      <th>N_acc_12</th>\n",
       "      <th>N_acc_13</th>\n",
       "      <th>N_acc_23</th>\n",
       "      <th>N_acc</th>\n",
       "    </tr>\n",
       "  </thead>\n",
       "  <tbody>\n",
       "    <tr>\n",
       "      <th>0</th>\n",
       "      <td>0.000216</td>\n",
       "      <td>0.000226</td>\n",
       "      <td>0.000040</td>\n",
       "      <td>3.132443e-10</td>\n",
       "    </tr>\n",
       "    <tr>\n",
       "      <th>1</th>\n",
       "      <td>0.000030</td>\n",
       "      <td>0.000031</td>\n",
       "      <td>0.000040</td>\n",
       "      <td>4.360281e-11</td>\n",
       "    </tr>\n",
       "    <tr>\n",
       "      <th>2</th>\n",
       "      <td>0.000008</td>\n",
       "      <td>0.000009</td>\n",
       "      <td>0.000039</td>\n",
       "      <td>1.208612e-11</td>\n",
       "    </tr>\n",
       "  </tbody>\n",
       "</table>\n",
       "</div>"
      ],
      "text/plain": [
       "   N_acc_12  N_acc_13  N_acc_23         N_acc\n",
       "0  0.000216  0.000226  0.000040  3.132443e-10\n",
       "1  0.000030  0.000031  0.000040  4.360281e-11\n",
       "2  0.000008  0.000009  0.000039  1.208612e-11"
      ]
     },
     "execution_count": 122,
     "metadata": {},
     "output_type": "execute_result"
    }
   ],
   "source": [
    "df_acc = pd.DataFrame({\n",
    "    'N_acc_12': N_doppie_acc_12,\n",
    "    'N_acc_13': N_doppie_acc_13,\n",
    "    'N_acc_23': N_doppie_acc_23,\n",
    "    'N_acc': N_triple_acc\n",
    "})\n",
    "\n",
    "df_acc"
   ]
  },
  {
   "cell_type": "code",
   "execution_count": 123,
   "id": "1b90953a-6695-4c1f-84ce-fcb0b836f3ed",
   "metadata": {},
   "outputs": [],
   "source": [
    "# Calcola e aggiungi le efficienze ai rispettivi DataFrames \n",
    "\n",
    "df_1['epsilon_1'] = df_1['N_triple']/df_1['N_doppie_23']\n",
    "df_1['sigma_epsilon_1'] = np.sqrt(df_1['epsilon_1']/df_1['N_doppie_23'] * (1 - df_1['epsilon_1']))\n"
   ]
  },
  {
   "cell_type": "code",
   "execution_count": 124,
   "id": "2f948877-cd36-4421-8898-576a7633677f",
   "metadata": {},
   "outputs": [],
   "source": [
    "# Crea degli array con i valori delle efficienze per creare\n",
    "# un DataFrame separato\n",
    "\n",
    "epsilon_1 = df_1['epsilon_1']\n",
    "sigma_epsilon_1 = df_1['sigma_epsilon_1']"
   ]
  },
  {
   "cell_type": "code",
   "execution_count": 125,
   "id": "5be81a78-250e-49a8-bf08-8706ced22e57",
   "metadata": {},
   "outputs": [],
   "source": [
    "# DataFrame delle efficienze \n",
    "\n",
    "df_eff = pd.DataFrame({\n",
    "    'epsilon_1' : epsilon_1,\n",
    "    'sigma_epsilon_1' : sigma_epsilon_1,\n",
    "    \n",
    "})"
   ]
  },
  {
   "cell_type": "code",
   "execution_count": 126,
   "id": "96ec49a9-51f0-4de5-a051-203305c1c80b",
   "metadata": {},
   "outputs": [
    {
     "data": {
      "text/html": [
       "<div>\n",
       "<style scoped>\n",
       "    .dataframe tbody tr th:only-of-type {\n",
       "        vertical-align: middle;\n",
       "    }\n",
       "\n",
       "    .dataframe tbody tr th {\n",
       "        vertical-align: top;\n",
       "    }\n",
       "\n",
       "    .dataframe thead th {\n",
       "        text-align: right;\n",
       "    }\n",
       "</style>\n",
       "<table border=\"1\" class=\"dataframe\">\n",
       "  <thead>\n",
       "    <tr style=\"text-align: right;\">\n",
       "      <th></th>\n",
       "      <th>epsilon_1</th>\n",
       "      <th>sigma_epsilon_1</th>\n",
       "    </tr>\n",
       "  </thead>\n",
       "  <tbody>\n",
       "    <tr>\n",
       "      <th>0</th>\n",
       "      <td>0.989547</td>\n",
       "      <td>0.003002</td>\n",
       "    </tr>\n",
       "    <tr>\n",
       "      <th>1</th>\n",
       "      <td>0.581376</td>\n",
       "      <td>0.014289</td>\n",
       "    </tr>\n",
       "    <tr>\n",
       "      <th>2</th>\n",
       "      <td>0.185817</td>\n",
       "      <td>0.011654</td>\n",
       "    </tr>\n",
       "  </tbody>\n",
       "</table>\n",
       "</div>"
      ],
      "text/plain": [
       "   epsilon_1  sigma_epsilon_1\n",
       "0   0.989547         0.003002\n",
       "1   0.581376         0.014289\n",
       "2   0.185817         0.011654"
      ]
     },
     "execution_count": 126,
     "metadata": {},
     "output_type": "execute_result"
    }
   ],
   "source": [
    "df_eff"
   ]
  },
  {
   "cell_type": "code",
   "execution_count": 127,
   "id": "d91ed0bd-2c6a-4ab4-ba87-94abf27cd5c5",
   "metadata": {},
   "outputs": [
    {
     "data": {
      "image/png": "[encoded data removed]",
      "text/plain": [
       "<Figure size 1000x600 with 1 Axes>"
      ]
     },
     "metadata": {},
     "output_type": "display_data"
    }
   ],
   "source": [
    "plt.figure(figsize=(10, 6))\n",
    "\n",
    "plt.plot(df_1['Th [meV]'], df_1['N_singole_1'], linestyle='-', marker='o', linewidth=1.7,color='b', alpha=0.6) # add \"marker = 'o'\" if you need the markers\n",
    "\n",
    "plt.title('Counts per Minute vs Threshold Voltage',fontsize=15)\n",
    "plt.xlabel('Th [mV]',fontsize=14)\n",
    "plt.ylabel('Counts/min',fontsize=14)\n",
    "plt.yscale('log')\n",
    "plt.grid(True, color='lightgray',alpha=0.5)\n",
    "\n",
    "plt.xticks(ticks=[0, 10, 20, 30, 40, 50, 60, 70, 80, 90, 100, 110, 120, 130, 140, 150, 170, 200, 230, 250], fontsize=12)\n",
    "# Uncomment if needed (comment the previous line): \n",
    "# plt.xticks(df_800V['Th [mV]'])  # Optional: set x-ticks to match Th values\n",
    "plt.yticks(fontsize=12)\n",
    "\n",
    "# Add the fixed value of V to the plot :\n",
    "plt.text(40, 6000, 'V = 1000 V', fontsize=18, bbox=dict(facecolor='white', alpha=0.7, edgecolor='black'))\n",
    "\n",
    "plt.show()"
   ]
  },
  {
   "cell_type": "code",
   "execution_count": 128,
   "id": "a77665d9-1d05-4637-a57b-6b177c663f85",
   "metadata": {},
   "outputs": [
    {
     "data": {
      "image/png": "[encoded data removed]",
      "text/plain": [
       "<Figure size 1000x600 with 1 Axes>"
      ]
     },
     "metadata": {},
     "output_type": "display_data"
    }
   ],
   "source": [
    "plt.figure(figsize=(10, 6))\n",
    "\n",
    "# Plot with error bars\n",
    "plt.errorbar(df_1['Th [meV]'], df_1['epsilon_1'], markersize = 4,\n",
    "             yerr=df_1['sigma_epsilon_1'],   # Error bar values\n",
    "             fmt='o', linewidth=0, color='black',  # Marker and line settings\n",
    "             ecolor='gray', elinewidth=1, capsize=3)  # Error bar style\n",
    "\n",
    "plt.title('Efficiency vs Threshold Voltage', fontsize=15)\n",
    "plt.xlabel('Th [mV]', fontsize=14)\n",
    "plt.ylabel('efficiency', fontsize=14)\n",
    "plt.grid(True, color='lightgray', alpha=0.5)\n",
    "\n",
    "plt.xticks(ticks=[0, 10, 20, 30, 40, 50, 60, 70, 80, 90, 100, 110, 120, 130, 140, 150, 170, 200, 230, 250], fontsize=12)\n",
    "# Uncomment if needed (comment the previous line): \n",
    "# plt.xticks(df_800V['Th [mV]'])  # Optional: set x-ticks to match Th values\n",
    "plt.yticks(fontsize=12)\n",
    "\n",
    "# Add the fixed value of V to the plot:\n",
    "# plt.text(40, 60000, 'V = 1000 V', fontsize=18, bbox=dict(facecolor='white', alpha=0.7, edgecolor='black'))\n",
    "\n",
    "plt.show()\n"
   ]
  },
  {
   "cell_type": "code",
   "execution_count": null,
   "id": "ca89663c-c9b4-415d-84d9-483775e68ceb",
   "metadata": {},
   "outputs": [],
   "source": []
  },
  {
   "cell_type": "markdown",
   "id": "20566c82-8507-42ba-885f-e90a52f31206",
   "metadata": {},
   "source": [
    "## V = 1200 V"
   ]
  },
  {
   "cell_type": "code",
   "execution_count": 165,
   "id": "3da27606-e5af-4db5-b1bb-4820715321ce",
   "metadata": {},
   "outputs": [],
   "source": [
    "# Rivelatore 1 : le doppie sono 2,3\n",
    "\n",
    "data_2 = {\n",
    "        'V [V]': np.full(5, 1000),\n",
    "        'Th [meV]' : [0, 5, 10, 15, 20],\n",
    "    \n",
    "        'N_singole_1': [66402, 28798, 19348, 13119, 8835 ],\n",
    "        'N_singole_2': [1536, 1621, 1575, 1640, 1610],\n",
    "        'N_singole_3': [1688, 1823, 1757, 1723, 1714],\n",
    "    \n",
    "        'N_doppie_12' : [1279, 1334,  1324, 1368, 1288, ],\n",
    "        'N_doppie_13' : [1378, 1438, 1401, 1380, 1363,],\n",
    "        'N_doppie_23' : [1078, 1149, 1122, 1150, 1120, ],\n",
    "    \n",
    "        'N_triple' : [1071, 1142, 1113, 1139, 1099],\n",
    "}\n",
    "df_2= pd.DataFrame(data_2)"
   ]
  },
  {
   "cell_type": "code",
   "execution_count": 166,
   "id": "9e1994ef-2bac-46b1-bbc8-388f71710fa0",
   "metadata": {},
   "outputs": [],
   "source": [
    "# Doppie accidentali : \n",
    "delta_t = 50*10**(-9) # s\n",
    "\n",
    "N_doppie_acc_12 = df_2['N_singole_1']/(60) * df_2['N_singole_2']/(60) * delta_t\n",
    "N_doppie_acc_13 = df_2['N_singole_1']/(60) * df_2['N_singole_3']/(60) * delta_t\n",
    "N_doppie_acc_23 = df_2['N_singole_2']/(60) * df_2['N_singole_3']/(60) * delta_t\n",
    "\n",
    "# Coincidenze triple : \n",
    "N_triple_acc = df_2['N_singole_1']/(60) * df_2['N_singole_2']/(60) * df_2['N_singole_3']/(60) * delta_t * delta_t"
   ]
  },
  {
   "cell_type": "code",
   "execution_count": 167,
   "id": "35246dd7-27bb-4c8c-8556-53f5357d0837",
   "metadata": {},
   "outputs": [
    {
     "data": {
      "text/html": [
       "<div>\n",
       "<style scoped>\n",
       "    .dataframe tbody tr th:only-of-type {\n",
       "        vertical-align: middle;\n",
       "    }\n",
       "\n",
       "    .dataframe tbody tr th {\n",
       "        vertical-align: top;\n",
       "    }\n",
       "\n",
       "    .dataframe thead th {\n",
       "        text-align: right;\n",
       "    }\n",
       "</style>\n",
       "<table border=\"1\" class=\"dataframe\">\n",
       "  <thead>\n",
       "    <tr style=\"text-align: right;\">\n",
       "      <th></th>\n",
       "      <th>N_acc_12</th>\n",
       "      <th>N_acc_13</th>\n",
       "      <th>N_acc_23</th>\n",
       "      <th>N_acc</th>\n",
       "    </tr>\n",
       "  </thead>\n",
       "  <tbody>\n",
       "    <tr>\n",
       "      <th>0</th>\n",
       "      <td>0.001417</td>\n",
       "      <td>0.001557</td>\n",
       "      <td>0.000036</td>\n",
       "      <td>1.992650e-09</td>\n",
       "    </tr>\n",
       "    <tr>\n",
       "      <th>1</th>\n",
       "      <td>0.000648</td>\n",
       "      <td>0.000729</td>\n",
       "      <td>0.000041</td>\n",
       "      <td>9.849593e-10</td>\n",
       "    </tr>\n",
       "    <tr>\n",
       "      <th>2</th>\n",
       "      <td>0.000423</td>\n",
       "      <td>0.000472</td>\n",
       "      <td>0.000038</td>\n",
       "      <td>6.196902e-10</td>\n",
       "    </tr>\n",
       "    <tr>\n",
       "      <th>3</th>\n",
       "      <td>0.000299</td>\n",
       "      <td>0.000314</td>\n",
       "      <td>0.000039</td>\n",
       "      <td>4.290581e-10</td>\n",
       "    </tr>\n",
       "  </tbody>\n",
       "</table>\n",
       "</div>"
      ],
      "text/plain": [
       "   N_acc_12  N_acc_13  N_acc_23         N_acc\n",
       "0  0.001417  0.001557  0.000036  1.992650e-09\n",
       "1  0.000648  0.000729  0.000041  9.849593e-10\n",
       "2  0.000423  0.000472  0.000038  6.196902e-10\n",
       "3  0.000299  0.000314  0.000039  4.290581e-10"
      ]
     },
     "execution_count": 167,
     "metadata": {},
     "output_type": "execute_result"
    }
   ],
   "source": [
    "df_acc = pd.DataFrame({\n",
    "    'N_acc_12': N_doppie_acc_12,\n",
    "    'N_acc_13': N_doppie_acc_13,\n",
    "    'N_acc_23': N_doppie_acc_23,\n",
    "    'N_acc': N_triple_acc\n",
    "})\n",
    "\n",
    "df_acc"
   ]
  },
  {
   "cell_type": "code",
   "execution_count": 168,
   "id": "a04a962b-bb54-48d9-aed6-51b5ee51f695",
   "metadata": {},
   "outputs": [],
   "source": [
    "# Calcola e aggiungi le efficienze ai rispettivi DataFrames \n",
    "\n",
    "df_2['epsilon_1'] = df_2['N_triple']/df_2['N_doppie_23']\n",
    "df_2['sigma_epsilon_1'] = np.sqrt(df_2['epsilon_1']/df_2['N_doppie_23'] * (1 - df_2['epsilon_1']))\n"
   ]
  },
  {
   "cell_type": "code",
   "execution_count": 169,
   "id": "a8b055af-101c-45e8-843c-82584ab5ac3b",
   "metadata": {},
   "outputs": [],
   "source": [
    "# Crea degli array con i valori delle efficienze per creare\n",
    "# un DataFrame separato\n",
    "\n",
    "epsilon_1 = df_2['epsilon_1']\n",
    "sigma_epsilon_1 = df_2['sigma_epsilon_1']"
   ]
  },
  {
   "cell_type": "code",
   "execution_count": 170,
   "id": "c15cd26b-77ab-4cae-9d2c-4eb682392261",
   "metadata": {},
   "outputs": [],
   "source": [
    "# DataFrame delle efficienze \n",
    "\n",
    "df_eff = pd.DataFrame({\n",
    "    'epsilon_1' : epsilon_1,\n",
    "    'sigma_epsilon_1' : sigma_epsilon_1,\n",
    "    \n",
    "})"
   ]
  },
  {
   "cell_type": "code",
   "execution_count": 171,
   "id": "990ca61a-3f4e-4115-9fea-5bd38dd53f63",
   "metadata": {},
   "outputs": [
    {
     "data": {
      "text/html": [
       "<div>\n",
       "<style scoped>\n",
       "    .dataframe tbody tr th:only-of-type {\n",
       "        vertical-align: middle;\n",
       "    }\n",
       "\n",
       "    .dataframe tbody tr th {\n",
       "        vertical-align: top;\n",
       "    }\n",
       "\n",
       "    .dataframe thead th {\n",
       "        text-align: right;\n",
       "    }\n",
       "</style>\n",
       "<table border=\"1\" class=\"dataframe\">\n",
       "  <thead>\n",
       "    <tr style=\"text-align: right;\">\n",
       "      <th></th>\n",
       "      <th>epsilon_1</th>\n",
       "      <th>sigma_epsilon_1</th>\n",
       "    </tr>\n",
       "  </thead>\n",
       "  <tbody>\n",
       "    <tr>\n",
       "      <th>0</th>\n",
       "      <td>0.993506</td>\n",
       "      <td>0.002446</td>\n",
       "    </tr>\n",
       "    <tr>\n",
       "      <th>1</th>\n",
       "      <td>0.993908</td>\n",
       "      <td>0.002296</td>\n",
       "    </tr>\n",
       "    <tr>\n",
       "      <th>2</th>\n",
       "      <td>0.991979</td>\n",
       "      <td>0.002663</td>\n",
       "    </tr>\n",
       "    <tr>\n",
       "      <th>3</th>\n",
       "      <td>0.990435</td>\n",
       "      <td>0.002870</td>\n",
       "    </tr>\n",
       "  </tbody>\n",
       "</table>\n",
       "</div>"
      ],
      "text/plain": [
       "   epsilon_1  sigma_epsilon_1\n",
       "0   0.993506         0.002446\n",
       "1   0.993908         0.002296\n",
       "2   0.991979         0.002663\n",
       "3   0.990435         0.002870"
      ]
     },
     "execution_count": 171,
     "metadata": {},
     "output_type": "execute_result"
    }
   ],
   "source": [
    "df_eff"
   ]
  },
  {
   "cell_type": "code",
   "execution_count": 172,
   "id": "99a50f07-34fd-4b73-b02b-b7450c85a35d",
   "metadata": {},
   "outputs": [
    {
     "data": {
      "image/png": "[encoded data removed]",
      "text/plain": [
       "<Figure size 1000x600 with 1 Axes>"
      ]
     },
     "metadata": {},
     "output_type": "display_data"
    }
   ],
   "source": [
    "plt.figure(figsize=(10, 6))\n",
    "\n",
    "plt.plot(df_2['Th [meV]'], df_2['N_singole_1'], linestyle='-', marker='o', linewidth=1.7,color='b', alpha=0.6) # add \"marker = 'o'\" if you need the markers\n",
    "\n",
    "plt.title('Counts per Minute vs Threshold Voltage',fontsize=15)\n",
    "plt.xlabel('Th [mV]',fontsize=14)\n",
    "plt.ylabel('Counts/min',fontsize=14)\n",
    "plt.yscale('log')\n",
    "plt.grid(True, color='lightgray',alpha=0.5)\n",
    "\n",
    "plt.xticks(ticks=[0, 10, 20, 30, 40, 50, 60, 70, 80], fontsize=12)\n",
    "# Uncomment if needed (comment the previous line): \n",
    "# plt.xticks(df_800V['Th [mV]'])  # Optional: set x-ticks to match Th values\n",
    "plt.yticks(fontsize=12)\n",
    "\n",
    "# Add the fixed value of V to the plot :\n",
    "#plt.text(40, 6000, 'V = 1200 V', fontsize=18, bbox=dict(facecolor='white', alpha=0.7, edgecolor='black'))\n",
    "\n",
    "plt.show()"
   ]
  },
  {
   "cell_type": "code",
   "execution_count": 174,
   "id": "858908a9-1640-4d94-a093-6eb9eb3e5f33",
   "metadata": {},
   "outputs": [
    {
     "data": {
      "image/png": "[encoded data removed]",
      "text/plain": [
       "<Figure size 1000x600 with 1 Axes>"
      ]
     },
     "metadata": {},
     "output_type": "display_data"
    }
   ],
   "source": [
    "plt.figure(figsize=(10, 6))\n",
    "\n",
    "# Plot with error bars\n",
    "plt.errorbar(df_2['Th [meV]'], df_2['epsilon_1'], markersize = 4,\n",
    "             yerr=df_2['sigma_epsilon_1'],   # Error bar values\n",
    "             fmt='o', linewidth=0, color='black',  # Marker and line settings\n",
    "             ecolor='gray', elinewidth=1, capsize=3)  # Error bar style\n",
    "\n",
    "plt.title('Efficiency vs Threshold Voltage', fontsize=15)\n",
    "plt.xlabel('Th [mV]', fontsize=14)\n",
    "plt.ylabel('efficiency', fontsize=14)\n",
    "plt.grid(True, color='lightgray', alpha=0.5)\n",
    "\n",
    "plt.xticks(ticks=[0, 10, 20, 30, 40, 50, 60, 70, 80], fontsize=12)\n",
    "# Uncomment if needed (comment the previous line): \n",
    "# plt.xticks(df_800V['Th [mV]'])  # Optional: set x-ticks to match Th values\n",
    "plt.yticks(fontsize=12)\n",
    "plt.ylim(0.95, 1.05)\n",
    "\n",
    "# Add the fixed value of V to the plot:\n",
    "# plt.text(40, 60000, 'V = 1000 V', fontsize=18, bbox=dict(facecolor='white', alpha=0.7, edgecolor='black'))\n",
    "\n",
    "plt.show()"
   ]
  },
  {
   "cell_type": "markdown",
   "id": "1a3bb193-0cbd-429c-af00-2119d07f5b16",
   "metadata": {},
   "source": [
    "## V = V"
   ]
  },
  {
   "cell_type": "code",
   "execution_count": null,
   "id": "edf6ff9a-2aa0-4bd9-bf85-4b7463c4c751",
   "metadata": {},
   "outputs": [],
   "source": []
  },
  {
   "cell_type": "code",
   "execution_count": null,
   "id": "9ea24bad-d147-4254-a09f-ca56b94f6d6d",
   "metadata": {},
   "outputs": [],
   "source": []
  },
  {
   "cell_type": "code",
   "execution_count": null,
   "id": "9b89a65f-28e4-4512-9bc3-c478e7e2f2c3",
   "metadata": {},
   "outputs": [],
   "source": []
  },
  {
   "cell_type": "code",
   "execution_count": null,
   "id": "cc1c3d0c-5fe5-4a4e-a747-ac863fe5194b",
   "metadata": {},
   "outputs": [],
   "source": []
  },
  {
   "cell_type": "code",
   "execution_count": null,
   "id": "edca5bad-4b1a-4133-83ea-a47febf9ad46",
   "metadata": {},
   "outputs": [],
   "source": []
  },
  {
   "cell_type": "code",
   "execution_count": null,
   "id": "1c288269-800a-4328-81cf-bb0835e97ff0",
   "metadata": {},
   "outputs": [],
   "source": []
  },
  {
   "cell_type": "code",
   "execution_count": null,
   "id": "962059c2-a096-482d-895f-f219ec7f4f6f",
   "metadata": {},
   "outputs": [],
   "source": []
  },
  {
   "cell_type": "code",
   "execution_count": null,
   "id": "ff6af020-1ef1-43d0-8ab3-bd98b9a546ba",
   "metadata": {},
   "outputs": [],
   "source": []
  },
  {
   "cell_type": "code",
   "execution_count": null,
   "id": "23660386-2571-439d-b047-6a07b58a77d8",
   "metadata": {},
   "outputs": [],
   "source": []
  },
  {
   "cell_type": "code",
   "execution_count": null,
   "id": "7cfdfa1d-f84c-4b19-ae80-c40e0739e7f3",
   "metadata": {},
   "outputs": [],
   "source": []
  }
 ],
 "metadata": {
  "kernelspec": {
   "display_name": "Python 3 (ipykernel)",
   "language": "python",
   "name": "python3"
  },
  "language_info": {
   "codemirror_mode": {
    "name": "ipython",
    "version": 3
   },
   "file_extension": ".py",
   "mimetype": "text/x-python",
   "name": "python",
   "nbconvert_exporter": "python",
   "pygments_lexer": "ipython3",
   "version": "3.11.2"
  }
 },
 "nbformat": 4,
 "nbformat_minor": 5
}
