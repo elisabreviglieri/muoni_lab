{
 "cells": [
  {
   "cell_type": "markdown",
   "id": "a90535dc-13e8-46cf-bff8-df5a3c030414",
   "metadata": {},
   "source": [
    "# Efficienza Primo Rivelatore"
   ]
  },
  {
   "cell_type": "markdown",
   "id": "8fde7438-fc00-45f9-8648-44f70e49b006",
   "metadata": {},
   "source": [
    "# New Code\n",
    "## Nuove misure prese con :\n",
    "* dt = 150 ns (impostato a 0)\n",
    "* delay = 5 ns"
   ]
  },
  {
   "cell_type": "markdown",
   "id": "5e54848d-93bd-4972-8b5a-f44a9d6eb272",
   "metadata": {},
   "source": [
    "## Misura dell'Efficienza dei Rivelatori (updated to 4th December 2024)\n",
    "\n",
    "Dimensioni rivelatori: ...\n",
    "\n",
    "\n",
    "\n",
    "Questo notebook contiene la misura dell'efficienza dei tre scintillatori calcolata sfruttando le coincidenze doppie e triple mediante la formula:\n",
    "\n",
    "$\\epsilon_{riv} = \\frac{N_{triple}}{N_{doppie}}$\n",
    "\n",
    "\n",
    "Tensioni: \n",
    "\n",
    "I conteggi vengono effettuati ogni 5 minuti.\n",
    "\n",
    "$\\Delta t$ = 50 $ns$\n",
    "\n",
    "WDT = 169\n",
    "\n",
    "dt = 150 ns (impostato a 0)\n",
    "\n",
    "delay = 5 ns (per tutti e tre i rivelatori)\n",
    "\n",
    "\n",
    "\n",
    "* N.B.: Non si è tenuto conto delle coincidenze accidentali (il conteggio è stato fatto ed è un numero trascurabile rispetto al numero di conteggi singoli)\n"
   ]
  },
  {
   "cell_type": "markdown",
   "id": "bb7bc10c-a333-4e81-9760-b4f5d7a1aeee",
   "metadata": {},
   "source": [
    "### Esempio: Efficienza del Primo Rivelatore\n",
    "\n",
    "Sfruttiamo le coincidenze triple. Le coincidenze doppie sono relative al secondo e al terzo rivelatore: \n",
    "\n",
    "\n",
    "\n",
    "\n",
    "$N_{triple} = N_{\\mu} \\, \\epsilon_1 \\, \\epsilon_2 \\, \\epsilon_3$,\n",
    "\n",
    "$N_{doppie} = N_{\\mu}\\, \\epsilon_2 \\,\\epsilon_3$ $=$ $N_{2,3} $ \n",
    "\n",
    "$\\Rightarrow$ $\\epsilon_1 = \\frac{N_{triple}}{N_{2,3}} $"
   ]
  },
  {
   "cell_type": "markdown",
   "id": "5cb186aa-680a-4449-99c6-a6cc941550dd",
   "metadata": {},
   "source": [
    "### N.B.: \n",
    "Per trovare il valore ottimale di Threshold, aspettiamo di scendere sotto al 90% di efficienza e ci fermiamo (con quel voltaggio)"
   ]
  },
  {
   "cell_type": "code",
   "execution_count": 3,
   "id": "33ef784a-92b0-4097-b12a-1b69350490fa",
   "metadata": {},
   "outputs": [],
   "source": [
    "import pandas as pd\n",
    "import numpy as np\n",
    "import matplotlib.pyplot as plt\n",
    "import seaborn as sns\n",
    "from mpl_toolkits.mplot3d import Axes3D"
   ]
  },
  {
   "cell_type": "code",
   "execution_count": 4,
   "id": "2be7c0e5-ccd5-4c81-a25a-0af889d53a3b",
   "metadata": {},
   "outputs": [],
   "source": [
    "# LateX font:\n",
    "plt.rcParams['text.usetex'] = True\n",
    "plt.rcParams['font.family'] = 'serif'"
   ]
  },
  {
   "cell_type": "markdown",
   "id": "d8e91d69-d732-44d1-83e3-c89b34ae0f5a",
   "metadata": {},
   "source": [
    "## Studio dell'Efficienza dello Scintillatore 1\n",
    "\n",
    "* Voltaggi degli Scintillatori 2 e 3:  $V = 1050 \\,V$\n",
    "* Threshold degli Scintillatori 2 e 3:  $Th = 70 \\,meV$\n",
    "\n",
    "\n",
    "Variamo il voltaggio e la threshold per trovare il punto in cui l'efficienza dello Scintillatore 1 è massima."
   ]
  },
  {
   "cell_type": "markdown",
   "id": "37f0f3df-ef2e-4f49-82c4-0ea9ee3a4e27",
   "metadata": {},
   "source": [
    "## Crea i dataframes :"
   ]
  },
  {
   "cell_type": "code",
   "execution_count": 5,
   "id": "b22e983b-6053-47ba-9f37-6fbd53b88029",
   "metadata": {},
   "outputs": [],
   "source": [
    "# Rivelatore 1 : le doppie sono 2,3\n",
    "\n",
    "data_1 = {\n",
    "        'V [V]': np.full(1, 1000),\n",
    "        'Th [meV]' : [0, ],\n",
    "    \n",
    "        'N_singole_1': [364097, ],\n",
    "        'N_singole_2': [11546, ],\n",
    "        'N_singole_3': [13923, ],\n",
    "    \n",
    "        'N_doppie_12' : [7217, ],\n",
    "        'N_doppie_13' : [7504,],\n",
    "        'N_doppie_23' : [6008, ],\n",
    "    \n",
    "        'N_triple' : [5975, ],\n",
    "}\n",
    "df_1= pd.DataFrame(data_1)"
   ]
  },
  {
   "cell_type": "code",
   "execution_count": 23,
   "id": "9b04804b-3813-429c-9506-650ced7dbe78",
   "metadata": {},
   "outputs": [],
   "source": [
    "# Rivelatore 1 : le doppie sono 2,3\n",
    "\n",
    "data_2 = {\n",
    "        'V [V]': np.full(1, 1050),\n",
    "        'Th [meV]' : [0, ],\n",
    "    \n",
    "        'N_singole_1': [],\n",
    "        'N_singole_2': [],\n",
    "        'N_singole_3': [],\n",
    "    \n",
    "        'N_doppie_12' : [],\n",
    "        'N_doppie_13' : [],\n",
    "        'N_doppie_23' : [],\n",
    "    \n",
    "        'N_triple' : [],\n",
    "}\n",
    "df_2 = pd.DataFrame(data_2)"
   ]
  },
  {
   "cell_type": "code",
   "execution_count": 24,
   "id": "725c1e46-6fdf-40da-a4a2-0a6c0a173a9b",
   "metadata": {},
   "outputs": [],
   "source": [
    "# Rivelatore 1 : le doppie sono 2,3\n",
    "\n",
    "data_3 = {\n",
    "        'V [V]': np.full(1, 1100),\n",
    "        'Th [meV]' : [0, ],\n",
    "    \n",
    "        'N_singole_1': [],\n",
    "        'N_singole_2': [],\n",
    "        'N_singole_3': [],\n",
    "    \n",
    "        'N_doppie_12' : [],\n",
    "        'N_doppie_13' : [],\n",
    "        'N_doppie_23' : [],\n",
    "    \n",
    "        'N_triple' : [],\n",
    "}\n",
    "df_3 = pd.DataFrame(data_3)"
   ]
  },
  {
   "cell_type": "code",
   "execution_count": 25,
   "id": "4b16bb71-aa44-4d2c-a048-1d58efc64c8f",
   "metadata": {},
   "outputs": [],
   "source": [
    "# Rivelatore 1 : le doppie sono 2,3\n",
    "\n",
    "data_4 = {\n",
    "        'V [V]': np.full(1, 1150),\n",
    "        'Th [meV]' : [0, ],\n",
    "    \n",
    "        'N_singole_1': [],\n",
    "        'N_singole_2': [],\n",
    "        'N_singole_3': [],\n",
    "    \n",
    "        'N_doppie_12' : [],\n",
    "        'N_doppie_13' : [],\n",
    "        'N_doppie_23' : [],\n",
    "    \n",
    "        'N_triple' : [],\n",
    "}\n",
    "df_4 = pd.DataFrame(data_4)"
   ]
  },
  {
   "cell_type": "code",
   "execution_count": 156,
   "id": "7fa6a3f6-bbba-49eb-9b1a-c756b13a5e8f",
   "metadata": {},
   "outputs": [],
   "source": [
    "data_5 = {\n",
    "        'V [V]': np.full(1, 1200),\n",
    "        'Th [meV]' : [],\n",
    "    \n",
    "        'N_singole_1': [],\n",
    "        'N_singole_2': [],\n",
    "        'N_singole_3': [],\n",
    "    \n",
    "        'N_doppie_12' : [],\n",
    "        'N_doppie_13' : [],\n",
    "        'N_doppie_23' : [],\n",
    "    \n",
    "        'N_triple' : [],\n",
    "}\n",
    "df_5 = pd.DataFrame(data_5)"
   ]
  },
  {
   "cell_type": "code",
   "execution_count": null,
   "id": "6c4f4a1b-4e13-4491-bc8a-b21fc0205ed6",
   "metadata": {},
   "outputs": [],
   "source": [
    "data_6 = {\n",
    "        'V [V]': np.full(1, 1250),\n",
    "        'Th [meV]' : [0, ],\n",
    "    \n",
    "        'N_singole_1': [],\n",
    "        'N_singole_2': [],\n",
    "        'N_singole_3': [],\n",
    "    \n",
    "        'N_doppie_12' : [],\n",
    "        'N_doppie_13' : [],\n",
    "        'N_doppie_23' : [],\n",
    "    \n",
    "        'N_triple' : [],\n",
    "}\n",
    "df_6 = pd.DataFrame(data_6)"
   ]
  },
  {
   "cell_type": "code",
   "execution_count": 7,
   "id": "55daedfd-3fa2-49b7-a2f4-5793de9076a2",
   "metadata": {},
   "outputs": [],
   "source": [
    "# Calcola le coincidenze accidentali : \n",
    "delta_t = 50*10**(-9) # s\n",
    "\n",
    "dataframes = [df_1]  # List of DataFrames\n",
    "results = {}  # Dictionary to store results\n",
    "\n",
    "for i, df in enumerate(dataframes, start=1):  # Loop through DataFrames with an index\n",
    "    # Calculate double coincidences\n",
    "    N_doppie_acc_12 = df['N_singole_1'] / (5 * 60) * df['N_singole_2'] / (5 * 60) * delta_t\n",
    "    N_doppie_acc_13 = df['N_singole_1'] / (5 * 60) * df['N_singole_3'] / (5 * 60) * delta_t\n",
    "    N_doppie_acc_23 = df['N_singole_2'] / (5 * 60) * df['N_singole_3'] / (5 * 60) * delta_t\n",
    "\n",
    "    # Calculate triple coincidences\n",
    "    N_triple_acc = (\n",
    "        df['N_singole_1'] / (5 * 60) *\n",
    "        df['N_singole_2'] / (5 * 60) *\n",
    "        df['N_singole_3'] / (5 * 60) *\n",
    "        delta_t * delta_t\n",
    "    )\n",
    "\n",
    "    # Store results in the dictionary\n",
    "    results[f'df_{i}'] = {\n",
    "        'N_doppie_acc_12': N_doppie_acc_12,\n",
    "        'N_doppie_acc_13': N_doppie_acc_13,\n",
    "        'N_doppie_acc_23': N_doppie_acc_23,\n",
    "        'N_triple_acc': N_triple_acc,\n",
    "    }\n"
   ]
  },
  {
   "cell_type": "code",
   "execution_count": 8,
   "id": "f9f1209c-d936-4cca-a470-9a568b32c680",
   "metadata": {},
   "outputs": [],
   "source": [
    "for df in dataframes:\n",
    "    df['N_doppie_acc_12'] = df['N_singole_1'] / (5 * 60) * df['N_singole_2'] / (5 * 60) * delta_t\n",
    "    df['N_doppie_acc_13'] = df['N_singole_1'] / (5 * 60) * df['N_singole_3'] / (5 * 60) * delta_t\n",
    "    df['N_doppie_acc_23'] = df['N_singole_2'] / (5 * 60) * df['N_singole_3'] / (5 * 60) * delta_t\n",
    "    df['N_triple_acc'] = (\n",
    "        df['N_singole_1'] / (5 * 60) *\n",
    "        df['N_singole_2'] / (5 * 60) *\n",
    "        df['N_singole_3'] / (5 * 60) *\n",
    "        delta_t * delta_t\n",
    "    )\n",
    "\n",
    "    # Errori : \n",
    "    \n",
    "    df['epsilon_1'] = df['N_triple'] / df['N_doppie_23']\n",
    "    df['sigma_epsilon_1'] = np.sqrt(\n",
    "        df['epsilon_1'] / df['N_doppie_23'] * (1 - df['epsilon_1'])\n",
    "    )"
   ]
  },
  {
   "cell_type": "code",
   "execution_count": null,
   "id": "1e51b3a0-ffc8-41ed-a2a0-99425bb9aae2",
   "metadata": {},
   "outputs": [],
   "source": []
  },
  {
   "cell_type": "code",
   "execution_count": 9,
   "id": "899436f5-04dd-4820-b363-9c1f27c8afc6",
   "metadata": {},
   "outputs": [],
   "source": [
    "# Per rendere il confronto tra efficienze più facili, creo un dataframe le cui colonne saranno solo \n",
    "# i valori delle efficienze :\n",
    "dataframes = [df_1]  # List of DataFrames\n",
    "epsilon_data = {}  # Dictionary to store epsilon_1 values for comparison\n",
    "\n",
    "for i, df in enumerate(dataframes, start=1):  # Loop through DataFrames\n",
    "    epsilon_data[f'df_{i}'] = df['epsilon_1']\n",
    "\n",
    "# Create a new DataFrame for epsilon_1 values\n",
    "epsilon_df = pd.DataFrame(epsilon_data)"
   ]
  },
  {
   "cell_type": "code",
   "execution_count": 10,
   "id": "632b245a-42c9-4790-9eb5-d0fefae7adcf",
   "metadata": {},
   "outputs": [
    {
     "data": {
      "text/html": [
       "<div>\n",
       "<style scoped>\n",
       "    .dataframe tbody tr th:only-of-type {\n",
       "        vertical-align: middle;\n",
       "    }\n",
       "\n",
       "    .dataframe tbody tr th {\n",
       "        vertical-align: top;\n",
       "    }\n",
       "\n",
       "    .dataframe thead th {\n",
       "        text-align: right;\n",
       "    }\n",
       "</style>\n",
       "<table border=\"1\" class=\"dataframe\">\n",
       "  <thead>\n",
       "    <tr style=\"text-align: right;\">\n",
       "      <th></th>\n",
       "      <th>df_1</th>\n",
       "    </tr>\n",
       "  </thead>\n",
       "  <tbody>\n",
       "    <tr>\n",
       "      <th>0</th>\n",
       "      <td>0.994507</td>\n",
       "    </tr>\n",
       "  </tbody>\n",
       "</table>\n",
       "</div>"
      ],
      "text/plain": [
       "       df_1\n",
       "0  0.994507"
      ]
     },
     "execution_count": 10,
     "metadata": {},
     "output_type": "execute_result"
    }
   ],
   "source": [
    "epsilon_df\n",
    "\n",
    "# N.B. : Se alcuni valori sono NaN è solo perché non abbiamo preso quei dati\n",
    "# inoltre questo confronto è poco fair perché efficienze della stessa riga NON\n",
    "# corrispondono necessariamente a threshold uguali\n",
    "# è giusto un confronto visivo tra voltaggi (e NON threshold)"
   ]
  },
  {
   "cell_type": "code",
   "execution_count": null,
   "id": "57cceac3-b8cb-44d2-8d85-c97047be6c7e",
   "metadata": {},
   "outputs": [],
   "source": []
  },
  {
   "cell_type": "code",
   "execution_count": 11,
   "id": "5f936be0-6707-4ac8-8163-77744ec68e61",
   "metadata": {},
   "outputs": [
    {
     "data": {
      "image/png": "[encoded data removed]",
      "text/plain": [
       "<Figure size 800x400 with 1 Axes>"
      ]
     },
     "metadata": {},
     "output_type": "display_data"
    }
   ],
   "source": [
    "# Plot the data - questo per i \"plateau\" (non ce li aspettiamo per questo rivelatore) : \n",
    "dataframes = [df_1]\n",
    "voltages = [1000, ]  # Corresponding voltages for each DataFrame\n",
    "\n",
    "\n",
    "for i, (df, voltage) in enumerate(zip(dataframes, voltages), start=1):\n",
    "    plt.figure(figsize=(8, 4))\n",
    "    \n",
    "    # Plot the data\n",
    "    plt.plot(\n",
    "        df['Th [meV]'], df['N_singole_1'],\n",
    "        linestyle='-', marker='o', linewidth=1.7, color='b', alpha=0.6\n",
    "    )\n",
    "    \n",
    "    # Add titles and labels\n",
    "    plt.title('Counts per Minute vs Threshold Voltage', fontsize=15)\n",
    "    plt.xlabel('Th [mV]', fontsize=14)\n",
    "    plt.ylabel('Counts/min', fontsize=14)\n",
    "    \n",
    "    # Use a logarithmic scale for the y-axis\n",
    "    plt.yscale('log')\n",
    "    \n",
    "    # Grid and tick settings\n",
    "    plt.grid(True, color='lightgray', alpha=0.5)\n",
    "    plt.xticks(\n",
    "        ticks=[0, 10, 20, 30, 40, 50, 60, 70, 80],\n",
    "        fontsize=12\n",
    "    )\n",
    "    plt.yticks(fontsize=12)\n",
    "    \n",
    "    plt.text(\n",
    "        1, 1, f'V = {voltage} V', \n",
    "        fontsize=20, bbox=dict(facecolor='white', alpha=0.7, edgecolor='black'),\n",
    "        transform=plt.gca().transAxes, ha='right', va='top'  # Position at the upper-right corner\n",
    "    )\n",
    "    \n",
    "    # Show the plot\n",
    "    plt.show()"
   ]
  },
  {
   "cell_type": "code",
   "execution_count": 12,
   "id": "c485ba3a-817f-4d15-9541-67beae9c65cd",
   "metadata": {},
   "outputs": [
    {
     "data": {
      "image/png": "[encoded data removed]",
      "text/plain": [
       "<Figure size 1000x600 with 1 Axes>"
      ]
     },
     "metadata": {},
     "output_type": "display_data"
    }
   ],
   "source": [
    "# List of DataFrames and corresponding voltages\n",
    "dataframes = [df_1]\n",
    "voltages = [1000]  # Corresponding voltages for each DataFrame\n",
    "\n",
    "for i, (df, voltage) in enumerate(zip(dataframes, voltages), start=1):\n",
    "    plt.figure(figsize=(10, 6))\n",
    "    \n",
    "    # Plot with error bars\n",
    "    plt.errorbar(\n",
    "        df['Th [meV]'], df['epsilon_1'], \n",
    "        yerr=df['sigma_epsilon_1'],  # Error bar values\n",
    "        fmt='o', markersize=4, linewidth=0, color='black',  # Marker and line settings\n",
    "        ecolor='gray', elinewidth=1, capsize=3  # Error bar style\n",
    "    )\n",
    "    \n",
    "    # Add titles and labels\n",
    "    plt.title('Efficiency vs Threshold Voltage', fontsize=15)\n",
    "    plt.xlabel('Th [mV]', fontsize=14)\n",
    "    plt.ylabel('Efficiency', fontsize=14)\n",
    "    \n",
    "    # Grid and tick settings\n",
    "    plt.grid(True, color='lightgray', alpha=0.5)\n",
    "    plt.xticks(\n",
    "        ticks=[0, 10, 20, 30, 40, 50, 60, 70, 80],\n",
    "        fontsize=12\n",
    "    )\n",
    "    plt.yticks(fontsize=12)\n",
    "    \n",
    "    # Add voltage annotation as a small box\n",
    "    plt.text(\n",
    "        1, 1, f'V = {voltage} V', \n",
    "        fontsize=20, bbox=dict(facecolor='white', alpha=0.7, edgecolor='black'),\n",
    "        transform=plt.gca().transAxes, ha='right', va='top'  # Position at the upper-right corner\n",
    "    )\n",
    "    \n",
    "    # Show the plot\n",
    "    plt.ylim(0.7, 1)\n",
    "    plt.show()\n",
    "\n"
   ]
  },
  {
   "cell_type": "code",
   "execution_count": null,
   "id": "b8e51572-2008-4c12-9ee9-adfdd6dd273e",
   "metadata": {},
   "outputs": [],
   "source": []
  },
  {
   "cell_type": "code",
   "execution_count": null,
   "id": "5f3c3412-c049-41d9-b860-806e9dd918d6",
   "metadata": {},
   "outputs": [],
   "source": []
  },
  {
   "cell_type": "code",
   "execution_count": null,
   "id": "815d4a4e-5ade-4380-bc4c-4c05646cb7a6",
   "metadata": {},
   "outputs": [],
   "source": []
  },
  {
   "cell_type": "markdown",
   "id": "8bb887cb-6208-4e07-aace-14a01da1d494",
   "metadata": {},
   "source": [
    "# Summary Plots"
   ]
  },
  {
   "cell_type": "code",
   "execution_count": 13,
   "id": "56b12e5d-a33d-4ae7-b730-3c9a996d89fc",
   "metadata": {},
   "outputs": [
    {
     "data": {
      "image/png": "[encoded data removed]",
      "text/plain": [
       "<Figure size 1200x1200 with 9 Axes>"
      ]
     },
     "metadata": {},
     "output_type": "display_data"
    }
   ],
   "source": [
    "FONT_SIZE = 14\n",
    "FONT_SIZE = 14\n",
    "MARKER_SIZE = 3\n",
    "LINE_WIDTH = 1\n",
    "GRID_COLOR = 'lightgray'\n",
    "GRID_ALPHA = 0.5\n",
    "\n",
    "# List of dataframes and corresponding voltages\n",
    "dataframes = [df_1] # Replace/add your actual dataframes here\n",
    "voltages = [1000]  # Replace/add the corresponding voltage values\n",
    "\n",
    "# Create subplots grid (1 row per dataframe)\n",
    "rows, cols = 3, 3\n",
    "fig, axes = plt.subplots(rows, cols, figsize=(12, 12), sharex=False, sharey=False)\n",
    "\n",
    "# Appiattisci gli assi per iterare facilmente\n",
    "axes_flat = axes.flatten()\n",
    "# Loop over dataframes and axes\n",
    "for i, (df, V) in enumerate(zip(dataframes, voltages)):\n",
    "        ax = axes_flat[i]\n",
    "\n",
    "        ax.errorbar(df['Th [meV]'], df['epsilon_1'], markersize = MARKER_SIZE,\n",
    "                yerr=df['sigma_epsilon_1'],   # Error bar values\n",
    "                fmt='o', linewidth=0, color='black',  # Marker and line settings\n",
    "                ecolor='gray', elinewidth=1, capsize=3)  # Error bar style\n",
    "        \n",
    "        ax.set_title('Efficiency vs Threshold Voltage', fontsize = FONT_SIZE)\n",
    "        ax.set_xlabel('Th [mV]', fontsize = FONT_SIZE)\n",
    "        ax.set_ylabel('efficiency', fontsize = FONT_SIZE)\n",
    "        #ax.set_xticks(ticks=[0, 10, 20, 30, 40, 50, 60, 70, 80], fontsize = FONT_SIZE)\n",
    "        # Uncomment if needed (comment the previous line): \n",
    "        # plt.xticks(df_800V['Th [mV]'])  # Optional: set x-ticks to match Th values\n",
    "        #ax.set_yticks(fontsize = FONT_SIZE)\n",
    "        ax.set_ylim(0.85, 1.05)\n",
    "        ax.grid(True, color='lightgray', alpha = 0.5)\n",
    "\n",
    "\n",
    "# Adjust layout\n",
    "plt.tight_layout()\n",
    "plt.show()"
   ]
  },
  {
   "cell_type": "code",
   "execution_count": null,
   "id": "ed5c96d1-69ef-4231-8b0c-bdcdbd85d1c7",
   "metadata": {},
   "outputs": [],
   "source": []
  }
 ],
 "metadata": {
  "kernelspec": {
   "display_name": "Python 3 (ipykernel)",
   "language": "python",
   "name": "python3"
  },
  "language_info": {
   "codemirror_mode": {
    "name": "ipython",
    "version": 3
   },
   "file_extension": ".py",
   "mimetype": "text/x-python",
   "name": "python",
   "nbconvert_exporter": "python",
   "pygments_lexer": "ipython3",
   "version": "3.11.2"
  }
 },
 "nbformat": 4,
 "nbformat_minor": 5
}
