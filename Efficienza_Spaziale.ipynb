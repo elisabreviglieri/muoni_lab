{
 "cells": [
  {
   "cell_type": "markdown",
   "id": "a90535dc-13e8-46cf-bff8-df5a3c030414",
   "metadata": {},
   "source": [
    "# Efficienza Spaziale\n",
    "\n",
    "### Updated to 08 Janaury 2025\n",
    "\n",
    "Dimensioni rivelatori: ...\n",
    "\n",
    "\n",
    "Questo notebook contiene la misura dell'efficienza dei tre scintillatori calcolata sfruttando le coincidenze doppie e triple mediante la formula:\n",
    "\n",
    "$\\epsilon_{riv} = \\frac{N_{triple}}{N_{doppie}}$\n",
    "> * I conteggi vengono effettuati ogni 15 minuti.\n",
    "> * WDT del'onda quadra generata dal discriminatore a 169 per avere $\\Delta t$ = 50 ns \n",
    "> * Tempo morto [dead time] = 150 ns (impostato a 0)\n",
    "> * Delay time = 5 ns (per tutti e tre i rivelatori)\n",
    "> * N.B.: Non si è tenuto conto delle coincidenze accidentali (il conteggio è stato fatto ed è un numero trascurabile rispetto al numero di conteggi singoli)\n"
   ]
  },
  {
   "cell_type": "markdown",
   "id": "bb7bc10c-a333-4e81-9760-b4f5d7a1aeee",
   "metadata": {},
   "source": [
    "### Esempio: Efficienza del Secondo Rivelatore\n",
    "\n",
    "Sfruttiamo le coincidenze triple. Le coincidenze doppie sono relative al primo e al terzo rivelatore: \n",
    "\n",
    "$N_{triple} = N_{\\mu} \\, \\epsilon_1 \\, \\epsilon_2 \\, \\epsilon_3$,\n",
    "\n",
    "$N_{doppie} = N_{\\mu}\\, \\epsilon_1 \\,\\epsilon_2$ $=$ $N_{1,2} $ \n",
    "$\\Rightarrow$ $\\epsilon_3 = \\frac{N_{triple}}{N_{1,2}} $\n",
    "\n",
    "\n",
    "Voltaggi e Threshold: \n",
    "\n",
    "$V_1 \\, = \\, 1150 \\, V$,   $Th_1 \\, = \\, 60 \\, mV$\n",
    "\n",
    "$V_2 \\, = \\, 1050 \\, V$,   $Th_2 \\, = \\, 90 \\, mV$\n",
    "\n",
    "$V_3 \\, = \\, 1050 \\, V$,   $Th_3 \\, = \\, 100 \\, mV$"
   ]
  },
  {
   "cell_type": "markdown",
   "id": "d620d2f8-55c4-4f4e-8c60-e8670883bd91",
   "metadata": {},
   "source": [
    "### NOTE (Eli):\n",
    "\n",
    "In alcune celle ci sono dei commenti in italiano per correggere il codice (alcuni indici) in modo da farlo girare senza errori.\n",
    "Se si vuole modificare il codice (ti vedo Andre) per ottimizzarlo, è ok.\n",
    "\n",
    "Il codice è già pronto per includere i valori del primo rivelatore (storati in df_1), basta uncommentare le righe opportune.\n",
    "\n",
    "Una nota per le ultime celle (ho scritto in quali il commento) : loopperei non in voltages, ma in scintillatori = [1, 2, 3], perché looppare in 1150, 1050, 1050 mi sembra un po' misleading. \n"
   ]
  },
  {
   "cell_type": "code",
   "execution_count": 2,
   "id": "33ef784a-92b0-4097-b12a-1b69350490fa",
   "metadata": {},
   "outputs": [],
   "source": [
    "#LIBRERIE\n",
    "import pandas as pd\n",
    "import numpy as np\n",
    "import matplotlib.pyplot as plt\n",
    "import seaborn as sns\n",
    "from mpl_toolkits.mplot3d import Axes3D\n",
    "import uproot\n",
    "\n",
    "#PARAMTERI\n",
    "DELTA_T = 50 * 10 ** (-9) #s\n",
    "MIN_TEST = 15 #min\n",
    "SECONDI_TEST = MIN_TEST * 60 #s\n",
    "\n",
    "#COSTANTI\n",
    "FIGSIZE_1_1 = (10, 6)\n",
    "FIGSIZE_3_1 = (10, 18)\n",
    "FIGSIZE_3_2 = (18, 12)\n",
    "\n",
    "FONT = \"DejaVu Sans\"\n",
    "FONT_DIM = [12,15,18,21,27]\n",
    "MARKER_SIZE = 4\n",
    "LINE_WIDTH = 1.5\n",
    "GRID_COLOR = 'lightgray'\n",
    "GRID_ALPHA = 0.8\n",
    "\n",
    "\n",
    "COLORI_BIN = [\"tab:blue\", \"tab:red\"]\n",
    "COLORI_DUE = [\"tab:blue\", \"tab:orange\"]\n",
    "COLORI_TRE = [\"tab:blue\", \"tab:green\", \"tab:red\"]\n",
    "COLORI_ARC = [\"tab:purple\", \"tab:blue\", \"tab:green\", \"tab:olive\", \"tab:orange\", \"tab:red\"]\n",
    "COLORI_ARC_10 = [\"maroon\", \"tab:red\",\"darkorange\" ,\"darkgoldenrod\", \"tab:olive\", \"tab:green\", \"teal\", \"tab:blue\", \"tab:purple\", \"darkmagenta\"]\n",
    "\n",
    "\n",
    "CARTELLA_IMMAGINI = \"Immagini/\"\n",
    "ESPORTA_IMMGAGINI = False\n",
    "FORMATO_IMMAGINI = \".pdf\"\n",
    "DPI = 300\n",
    "\n",
    "#FONT (LaTeX)\n",
    "plt.rcParams['text.usetex'] = True\n",
    "plt.rcParams['font.family'] = 'serif'"
   ]
  },
  {
   "cell_type": "markdown",
   "id": "d8e91d69-d732-44d1-83e3-c89b34ae0f5a",
   "metadata": {},
   "source": [
    "### Raccolta Dati"
   ]
  },
  {
   "cell_type": "code",
   "execution_count": 17,
   "id": "b22e983b-6053-47ba-9f37-6fbd53b88029",
   "metadata": {},
   "outputs": [],
   "source": [
    "# Rivelatore 1 : le doppie sono 2,3\n",
    "\n",
    "data_1 = {\n",
    "'V [V]':          np.full(4, 1150),\n",
    "'Threshold [mV]': np.full(4, 60),\n",
    "'x [cm]':       [0, 15, 30, 45, ],\n",
    "'N_singole_1':  [90259, 89404, 88153, 87764],\n",
    "'N_singole_2':  [30933, 31052, 30622, 31003],\n",
    "'N_singole_3':  [29708, 29030, 29404, 29966],\n",
    "'N_doppie_12' : [8862, 8841, 8811, 8336], \n",
    "'N_doppie_13' : [21214, 20820, 20987, 21129],\n",
    "'N_doppie_23' : [8057, 8353, 8380, 7496],  \n",
    "'N_triple' :    [7559, 7702,7822, 6955],\n",
    "}\n",
    "\n",
    "# Rivelatore 2 : le doppie sono 1,3\n",
    "data_2 = {\n",
    "'V [V]':          np.full(4, 1050),\n",
    "'Threshold [mV]': np.full(4, 90),\n",
    "'x [cm]' :      [0, 15, 30, 45, ],\n",
    "'N_singole_1':  [92687, 90376, 89329, 89031, ],\n",
    "'N_singole_2':  [29218, 29279, 29551, 29284, ],\n",
    "'N_singole_3':  [28843, 28628, 28536, 28932, ],  \n",
    "'N_doppie_12' : [20496, 20787, 20577, 20450, ],\n",
    "'N_doppie_13' : [7793, 8250, 8091, 7327, ],\n",
    "'N_doppie_23' : [8649, 8863, 8730, 8291, ],   \n",
    "'N_triple' :    [7300, 7785, 7586, 6851, ],\n",
    "}\n",
    "\n",
    "\n",
    "# Rivelatore 3 : le doppie sono 1,2\n",
    "data_3 = {\n",
    "'V [V]':          np.full(4, 1050),\n",
    "'Threshold [mV]': np.full(4, 100),\n",
    "'x [cm]':       [0, 15, 30, 45, ],\n",
    "'N_singole_1':  [84610, 89479, 88983, 89439, ],\n",
    "'N_singole_2':  [30043, 30152, 29976, 30263, ],\n",
    "'N_singole_3':  [28099, 20325, 27960, 28475, ],\n",
    "'N_doppie_12' : [7661, 8114, 7993, 7325, ],\n",
    "'N_doppie_13' : [20315, 20500, 20243, 20421, ],\n",
    "'N_doppie_23' : [8502, 8736, 8662, 8313, ],\n",
    "'N_triple' :    [7179, 7590, 7529, 6897, ],\n",
    "}\n",
    "\n",
    "\n",
    "df_1 = pd.DataFrame(data_1)\n",
    "df_2 = pd.DataFrame(data_2)\n",
    "df_3 = pd.DataFrame(data_3)\n",
    "\n",
    "# Non serve : \n",
    "# df_1000V = df_1000V.sort_values(by='Th [mV]')\n",
    "# df_1050V = df_1050V.sort_values(by='Th [mV]')\n",
    "# df_1100V = df_1100V.sort_values(by='Th [mV]')\n",
    "\n",
    "Asse_x = {\n",
    "  #  1000: np.array([0, 20, 40, 60, 80, 100, 120, 140, 160]),\n",
    "    1050: np.array([0, 20, 40, 60, 80, 100, 120, 140, 160, 180, 200]),\n",
    "    1100: np.array([0, 20, 40, 60, 80, 100, 120, 140, 160, 180, 200, 220]),\n",
    "}\n",
    "\n",
    "dataframes =    [df_1, df_2, df_3, ] # aggiungere prima df_1\n",
    "voltages   =    [1100, 1050, 1050, ] # aggiungere prima 1100, \n",
    "# x          =    [0, 15, 30, 45, ]"
   ]
  },
  {
   "cell_type": "code",
   "execution_count": 31,
   "id": "94c20c34-93b1-4803-9e60-8d04480d71d0",
   "metadata": {},
   "outputs": [],
   "source": [
    "# LEGGIMI !!!\n",
    "# LEGGERE I COMMENTI IN ITALIANO PER MODIFICARE OPPORTUNAMENTE IL CODICE PER \n",
    "# RIUSCIRE ALMENO A FARLO GIRARE\n",
    "\n",
    "# Iterate through dataframes and calculate the required quantities\n",
    "for i, df in enumerate(dataframes):\n",
    "    # Calculate double coincidences\n",
    "    N_doppie_acc_12 = (df['N_singole_1'] / SECONDI_TEST) * (df['N_singole_2'] / SECONDI_TEST) * DELTA_T\n",
    "    N_doppie_acc_13 = (df['N_singole_1'] / SECONDI_TEST) * (df['N_singole_3'] / SECONDI_TEST) * DELTA_T\n",
    "    N_doppie_acc_23 = (df['N_singole_2'] / SECONDI_TEST) * (df['N_singole_3'] / SECONDI_TEST) * DELTA_T\n",
    "\n",
    "    # Calculate triple coincidences\n",
    "    N_triple_acc = (\n",
    "        (df['N_singole_1'] / SECONDI_TEST) *\n",
    "        (df['N_singole_2'] / SECONDI_TEST) *\n",
    "        (df['N_singole_3'] / SECONDI_TEST) *\n",
    "        DELTA_T ** 2\n",
    "    )\n",
    "\n",
    "    # Store results in the dataframe\n",
    "    df['N_doppie_acc_12'] = N_doppie_acc_12\n",
    "    df['N_doppie_acc_13'] = N_doppie_acc_13\n",
    "    df['N_doppie_acc_23'] = N_doppie_acc_23\n",
    "    df['N_triple_acc'] = N_triple_acc\n",
    "\n",
    "# Calculate epsilon and sigma_epsilon for the specific cases\n",
    "if len(dataframes) >= 3: # QUANDO VENGONO PRESI I DATI PER IL RIVELATORE 1, QUESTO DIVENTA >= 3: !!!!!!\n",
    "    # Assign the first and second dataframes\n",
    "    df_1 = dataframes[0]  # QUANDO VENGONO PRESI I DATI PER IL RIVELATORE 1, CAMBIARE QUESTI INDICI !!! \n",
    "    df_2 = dataframes[1] # DIVENTA df_2 = dataframes[1]\n",
    "    df_3 = dataframes[2] # DIVENTA df_3 = dataframes[2]\n",
    "\n",
    "    # Calculate epsilon for df_1 \n",
    "    df_1['epsilon'] = df_1['N_triple'] / df_1['N_doppie_23']\n",
    "    df_1['sigma_epsilon'] = np.sqrt(df_1['epsilon'] / df_1['N_doppie_23']) * (1 - df_1['epsilon'])\n",
    "\n",
    "    # Calculate epsilon for df_2\n",
    "    df_2['epsilon'] = df_2['N_triple'] / df_2['N_doppie_13']\n",
    "    df_2['sigma_epsilon'] = np.sqrt(df_2['epsilon'] / df_2['N_doppie_13'] * (1 - df_2['epsilon']))\n",
    "\n",
    "    # Calculate epsilon_2 for df_3\n",
    "    df_3['epsilon'] = df_3['N_triple'] / df_3['N_doppie_12']\n",
    "    df_3['sigma_epsilon'] = np.sqrt(df_3['epsilon'] / df_3['N_doppie_12'] * (1 - df_3['epsilon']))\n",
    "\n",
    "# Adjust the single counts after calculations\n",
    "for df in dataframes:\n",
    "    df['N_singole_1'] = df['N_singole_1'] / MIN_TEST\n",
    "    df['N_singole_2'] = df['N_singole_2'] / MIN_TEST\n",
    "    df['N_singole_3'] = df['N_singole_3'] / MIN_TEST\n"
   ]
  },
  {
   "cell_type": "code",
   "execution_count": 8,
   "id": "899436f5-04dd-4820-b363-9c1f27c8afc6",
   "metadata": {},
   "outputs": [],
   "source": [
    "# Initialize a dictionary to store epsilon values\n",
    "epsilon_data = {}\n",
    "sigma_epsilon_data = {}\n",
    "\n",
    "# Loop through the DataFrames and add epsilon values as columns\n",
    "for i, df in enumerate(dataframes, start=1):\n",
    "    epsilon_data[f'epsilon_df_{i}'] = df['epsilon']\n",
    "    sigma_epsilon_data[f'sigma_epsilon_df_{i}'] = df['sigma_epsilon']\n",
    "\n",
    "# Create a new DataFrame for epsilon values\n",
    "epsilon_df = pd.DataFrame(epsilon_data)\n",
    "sigma_epsilon_df = pd.DataFrame(sigma_epsilon_data)\n",
    "\n",
    "efficiency_df = pd.concat([epsilon_df, sigma_epsilon_df], axis=1)"
   ]
  },
  {
   "cell_type": "code",
   "execution_count": 9,
   "id": "632b245a-42c9-4790-9eb5-d0fefae7adcf",
   "metadata": {},
   "outputs": [
    {
     "data": {
      "text/html": [
       "<div>\n",
       "<style scoped>\n",
       "    .dataframe tbody tr th:only-of-type {\n",
       "        vertical-align: middle;\n",
       "    }\n",
       "\n",
       "    .dataframe tbody tr th {\n",
       "        vertical-align: top;\n",
       "    }\n",
       "\n",
       "    .dataframe thead th {\n",
       "        text-align: right;\n",
       "    }\n",
       "</style>\n",
       "<table border=\"1\" class=\"dataframe\">\n",
       "  <thead>\n",
       "    <tr style=\"text-align: right;\">\n",
       "      <th></th>\n",
       "      <th>epsilon_df_1</th>\n",
       "      <th>epsilon_df_2</th>\n",
       "      <th>epsilon_df_3</th>\n",
       "      <th>sigma_epsilon_df_1</th>\n",
       "      <th>sigma_epsilon_df_2</th>\n",
       "      <th>sigma_epsilon_df_3</th>\n",
       "    </tr>\n",
       "  </thead>\n",
       "  <tbody>\n",
       "    <tr>\n",
       "      <th>0</th>\n",
       "      <td>0.938190</td>\n",
       "      <td>0.936738</td>\n",
       "      <td>0.937084</td>\n",
       "      <td>0.003288</td>\n",
       "      <td>0.002758</td>\n",
       "      <td>0.002774</td>\n",
       "    </tr>\n",
       "    <tr>\n",
       "      <th>1</th>\n",
       "      <td>0.922064</td>\n",
       "      <td>0.943636</td>\n",
       "      <td>0.935420</td>\n",
       "      <td>0.003346</td>\n",
       "      <td>0.002539</td>\n",
       "      <td>0.002729</td>\n",
       "    </tr>\n",
       "    <tr>\n",
       "      <th>2</th>\n",
       "      <td>0.933413</td>\n",
       "      <td>0.937585</td>\n",
       "      <td>0.941949</td>\n",
       "      <td>0.003338</td>\n",
       "      <td>0.002689</td>\n",
       "      <td>0.002616</td>\n",
       "    </tr>\n",
       "    <tr>\n",
       "      <th>3</th>\n",
       "      <td>0.927828</td>\n",
       "      <td>0.935035</td>\n",
       "      <td>0.941570</td>\n",
       "      <td>0.003233</td>\n",
       "      <td>0.002879</td>\n",
       "      <td>0.002741</td>\n",
       "    </tr>\n",
       "  </tbody>\n",
       "</table>\n",
       "</div>"
      ],
      "text/plain": [
       "   epsilon_df_1  epsilon_df_2  epsilon_df_3  sigma_epsilon_df_1  \\\n",
       "0      0.938190      0.936738      0.937084            0.003288   \n",
       "1      0.922064      0.943636      0.935420            0.003346   \n",
       "2      0.933413      0.937585      0.941949            0.003338   \n",
       "3      0.927828      0.935035      0.941570            0.003233   \n",
       "\n",
       "   sigma_epsilon_df_2  sigma_epsilon_df_3  \n",
       "0            0.002758            0.002774  \n",
       "1            0.002539            0.002729  \n",
       "2            0.002689            0.002616  \n",
       "3            0.002879            0.002741  "
      ]
     },
     "execution_count": 9,
     "metadata": {},
     "output_type": "execute_result"
    }
   ],
   "source": [
    "efficiency_df\n",
    "\n",
    "# N.B. : Se alcuni valori sono NaN è solo perché non abbiamo preso quei dati\n",
    "# inoltre questo confronto è poco fair perché efficienze della stessa riga NON\n",
    "# corrispondono necessariamente a threshold uguali\n",
    "# è giusto un confronto visivo tra voltaggi (e NON threshold)"
   ]
  },
  {
   "cell_type": "code",
   "execution_count": 18,
   "id": "81f431af",
   "metadata": {},
   "outputs": [
    {
     "data": {
      "image/png": "[encoded data removed]",
      "text/plain": [
       "<Figure size 720x432 with 1 Axes>"
      ]
     },
     "metadata": {
      "needs_background": "light"
     },
     "output_type": "display_data"
    },
    {
     "data": {
      "image/png": "[encoded data removed]",
      "text/plain": [
       "<Figure size 720x432 with 1 Axes>"
      ]
     },
     "metadata": {
      "needs_background": "light"
     },
     "output_type": "display_data"
    },
    {
     "data": {
      "image/png": "[encoded data removed]",
      "text/plain": [
       "<Figure size 720x432 with 1 Axes>"
      ]
     },
     "metadata": {
      "needs_background": "light"
     },
     "output_type": "display_data"
    }
   ],
   "source": [
    "# Questa cella va sistemata, non lo faccio ora perché le singole non ci interessano ma se si vuole si può fare\n",
    "# Loopperei non in voltages ma tipo in scintillatori = [1, 2, 3]\n",
    "# va sistemato anche qualcos'altro nel loop grazieee\n",
    "\n",
    "for df, voltage in zip(dataframes, voltages):\n",
    "    plt.figure(figsize = FIGSIZE_1_1)\n",
    "\n",
    "    plt.plot(df['x [cm]'], df['N_singole_1'], linestyle = '-', marker = 'o', \n",
    "             linewidth = LINE_WIDTH, color = COLORI_TRE[0], alpha = GRID_ALPHA)\n",
    "    plt.plot(df['x [cm]'], df['N_singole_2'], linestyle = '-', marker = 'o', \n",
    "             linewidth = LINE_WIDTH, color = COLORI_TRE[1], alpha = GRID_ALPHA)\n",
    "    plt.plot(df['x [cm]'], df['N_singole_3'], linestyle = '-', marker = 'o', \n",
    "             linewidth = LINE_WIDTH, color = COLORI_TRE[2], alpha = GRID_ALPHA)\n",
    "\n",
    "    #plt.title('Counts per Minute vs Threshold Voltage', fontsize = FONT_DIM[1])\n",
    "    plt.xlabel('Position [cm]', fontsize = FONT_DIM[1])\n",
    "    plt.ylabel('Counts/min', fontsize = FONT_DIM[1])\n",
    "\n",
    "    plt.xticks(Asse_x[voltage], fontsize = FONT_DIM[1])\n",
    "    plt.yticks(fontsize = FONT_DIM[1])\n",
    "\n",
    "    plt.xlim(-2, df['x [cm]'].max() + 2)\n",
    "    \n",
    "    plt.yscale('log')\n",
    "    plt.grid(True, color = 'lightgray',  alpha = GRID_ALPHA)\n",
    "    \n",
    "    ax = plt.gca()  # Ottieni l'oggetto Axes corrente\n",
    "    ax.text(0.98, 0.95,  # Coordinate relative (x, y)\n",
    "            '1050 V', \n",
    "            fontsize=FONT_DIM[2], \n",
    "            bbox=dict(facecolor='white', alpha=GRID_ALPHA, edgecolor=COLORI_TRE[0]),\n",
    "            transform=ax.transAxes,  # Usa ax.transAxes per le coordinate relative\n",
    "            ha='right',  # Allineamento orizzontale a destra\n",
    "            va='top')    # Allineamento verticale in alto\n",
    "    ax.text(0.98, 0.85,  # Coordinate relative (x, y)\n",
    "            f'{voltage} V', \n",
    "            fontsize=FONT_DIM[2], \n",
    "            bbox=dict(facecolor='white', alpha=GRID_ALPHA, edgecolor=COLORI_TRE[1]),\n",
    "            transform=ax.transAxes,  # Usa ax.transAxes per le coordinate relative\n",
    "            ha='right',  # Allineamento orizzontale a destra\n",
    "            va='top')    # Allineamento verticale in alto\n",
    "    ax.text(0.98, 0.75,  # Coordinate relative (x, y)\n",
    "            '1050 V',  \n",
    "            fontsize=FONT_DIM[2], \n",
    "            bbox=dict(facecolor='white', alpha=GRID_ALPHA, edgecolor=COLORI_TRE[2]),\n",
    "            transform=ax.transAxes,  # Usa ax.transAxes per le coordinate relative\n",
    "            ha='right',  # Allineamento orizzontale a destra\n",
    "            va='top')    # Allineamento verticale in alto\n",
    "\n",
    "    #plt.tight_layout()\n",
    "\n",
    "    if ESPORTA_IMMGAGINI:\n",
    "        plt.savefig(CARTELLA_IMMAGINI + \"2_3_plateau_\" + f'{voltage}' + \"_V\" + FORMATO_IMMAGINI, bbox_inches = \"tight\", dpi=DPI)\n",
    "\n",
    "plt.show()"
   ]
  },
  {
   "cell_type": "code",
   "execution_count": 20,
   "id": "d8a95e0f-d753-46bc-a23c-61b105eb2057",
   "metadata": {},
   "outputs": [
    {
     "data": {
      "image/png": "[encoded data removed]",
      "text/plain": [
       "<Figure size 720x432 with 1 Axes>"
      ]
     },
     "metadata": {
      "needs_background": "light"
     },
     "output_type": "display_data"
    }
   ],
   "source": [
    "# Create a single figure for the three curves\n",
    "plt.figure(figsize = FIGSIZE_1_1)\n",
    "\n",
    "for iPlot, (df, voltage) in enumerate(zip(dataframes, voltages)):\n",
    "    plt.plot(df['x [cm]'], df['N_singole_2'], linestyle = '', marker = 'o', \n",
    "             linewidth = LINE_WIDTH, color = COLORI_TRE[iPlot], alpha = GRID_ALPHA)\n",
    "\n",
    "# Add titles and labels\n",
    "#plt.title('Counts per Minute vs Threshold Voltage', fontsize = FONT_DIM[1])\n",
    "plt.xlabel('Position [cm]', fontsize = FONT_DIM[1])\n",
    "plt.ylabel('Counts/min', fontsize = FONT_DIM[1])\n",
    "\n",
    "plt.xticks(Asse_x[1050], fontsize = FONT_DIM[1])\n",
    "plt.yticks(fontsize = FONT_DIM[1])\n",
    "\n",
    "plt.xlim(-2, df['x [cm]'].max() + 2)\n",
    "\n",
    "plt.yscale('log')\n",
    "plt.grid(True, color = 'lightgray',  alpha = GRID_ALPHA)\n",
    "\n",
    "if ESPORTA_IMMGAGINI:\n",
    "    plt.savefig(CARTELLA_IMMAGINI + \"2_3_plateau_completo\" + FORMATO_IMMAGINI, bbox_inches = \"tight\", dpi=DPI)\n",
    "\n",
    "plt.show()\n"
   ]
  },
  {
   "cell_type": "code",
   "execution_count": 32,
   "id": "4afe0a36",
   "metadata": {},
   "outputs": [
    {
     "data": {
      "image/png": "[encoded data removed]",
      "text/plain": [
       "<Figure size 720x432 with 1 Axes>"
      ]
     },
     "metadata": {
      "needs_background": "light"
     },
     "output_type": "display_data"
    },
    {
     "data": {
      "image/png": "[encoded data removed]",
      "text/plain": [
       "<Figure size 720x432 with 1 Axes>"
      ]
     },
     "metadata": {
      "needs_background": "light"
     },
     "output_type": "display_data"
    },
    {
     "data": {
      "image/png": "[encoded data removed]",
      "text/plain": [
       "<Figure size 720x432 with 1 Axes>"
      ]
     },
     "metadata": {
      "needs_background": "light"
     },
     "output_type": "display_data"
    }
   ],
   "source": [
    "# Al posto che looppare su voltages, loopperei su scintillatori = [1, 2, 3] così gli indici sono quelli\n",
    "# avere come indici voltages è misleading\n",
    "\n",
    "for df, voltage in zip(dataframes, voltages):\n",
    "    plt.figure(figsize=FIGSIZE_1_1)\n",
    "    \n",
    "    # Plot with error bars\n",
    "    plt.errorbar(\n",
    "        df['x [cm]'], df['epsilon'], \n",
    "        yerr=df['sigma_epsilon'],  # Error bar values\n",
    "        fmt='o', markersize=4, linewidth=0, color='black',  # Marker and line settings\n",
    "        ecolor='gray', elinewidth=1, capsize=3  # Error bar style\n",
    "    )\n",
    "    \n",
    "    #plt.title('Efficiency vs Threshold Voltage', fontsize = FONT_DIM[1])\n",
    "    plt.xlabel('Position [cm]', fontsize = FONT_DIM[1])\n",
    "    plt.ylabel('Efficiency', fontsize = FONT_DIM[1])\n",
    "\n",
    "    plt.xticks(Asse_x[voltage], fontsize = FONT_DIM[1])\n",
    "    plt.yticks(fontsize = FONT_DIM[1])\n",
    "\n",
    "    plt.xlim(-2, df['x [cm]'].max() + 2)\n",
    "    plt.ylim(0, 1.1)   \n",
    "    \n",
    "    plt.grid(True, color = 'lightgray',  alpha = GRID_ALPHA)\n",
    "    \n",
    "    ax = plt.gca()  # Ottieni l'oggetto Axes corrente\n",
    "    ax.text(0.98, 0.95,  # Coordinate relative (x, y)\n",
    "            f'{voltage} V', \n",
    "            fontsize = FONT_DIM[2], \n",
    "            bbox = dict(facecolor = 'white', alpha = GRID_ALPHA, edgecolor = 'black'),\n",
    "            transform = ax.transAxes,  # Usa ax.transAxes per le coordinate relative\n",
    "            ha = 'right',  # Allineamento orizzontale a destra\n",
    "            va = 'top')    # Allineamento verticale in alto\n",
    "\n",
    "    #plt.tight_layout()\n",
    "\n",
    "    if ESPORTA_IMMGAGINI:\n",
    "        plt.savefig(CARTELLA_IMMAGINI + \"2_3_efficienza_\" + f'{voltage}' + \"_V\" + FORMATO_IMMAGINI, bbox_inches = \"tight\", dpi=DPI)\n",
    "\n",
    "plt.show()"
   ]
  },
  {
   "cell_type": "code",
   "execution_count": 33,
   "id": "d80a4d3a",
   "metadata": {},
   "outputs": [
    {
     "data": {
      "image/png": "[encoded data removed]",
      "text/plain": [
       "<Figure size 1296x432 with 3 Axes>"
      ]
     },
     "metadata": {
      "needs_background": "light"
     },
     "output_type": "display_data"
    }
   ],
   "source": [
    "# Create subplots grid (4 rows x 3 columns)\n",
    "rows, cols = 1, 3\n",
    "fig, axes = plt.subplots(rows, cols, figsize=(18, 6), sharex=False, sharey=False)\n",
    "\n",
    "# Appiattisci gli assi per iterare facilmente\n",
    "axes_flat = axes.flatten()\n",
    "\n",
    "# Loop over dataframes and axes\n",
    "for iPlot, (df, voltage) in enumerate(zip(dataframes, voltages)):\n",
    "    ax = axes_flat[iPlot]\n",
    "\n",
    "    ax.errorbar(\n",
    "        df['x [cm]'], df['epsilon'], \n",
    "        yerr = df['sigma_epsilon'],  # Error bar values\n",
    "        fmt = 'o', markersize=4, linewidth=0, color='black',  # Marker and line settings\n",
    "        ecolor='gray', elinewidth=1, capsize=3  # Error bar style\n",
    "    )\n",
    "    \n",
    "    #plt.title('Efficiency vs Threshold Voltage', fontsize = FONT_DIM[1])\n",
    "    ax.set_xlabel('Position [cm]', fontsize = FONT_DIM[1])\n",
    "    ax.set_ylabel('Efficiency', fontsize = FONT_DIM[1])\n",
    "\n",
    "    ax.set_xticks(Asse_x[voltage])\n",
    "    ax.tick_params(axis='x', labelsize=FONT_DIM[1])\n",
    "    ax.tick_params(axis='y', labelsize=FONT_DIM[1])\n",
    "\n",
    "    ax.set_xlim(-2, df['x [cm]'].max() + 2)\n",
    "    ax.set_ylim(0, 1.05)   \n",
    "    \n",
    "    ax.grid(True, color = 'lightgray',  alpha = GRID_ALPHA)\n",
    "\n",
    "    ax.text(0.20, 0.08,  # Coordinate relative (x, y)\n",
    "            f'{voltage} V', \n",
    "            fontsize = FONT_DIM[2], \n",
    "            bbox = dict(facecolor = 'white', alpha = GRID_ALPHA, edgecolor = 'black'),\n",
    "            transform = ax.transAxes,  # Usa ax.transAxes per le coordinate relative\n",
    "            ha = 'right',  # Allineamento orizzontale a destra\n",
    "            va = 'top')    # Allineamento verticale in alto\n",
    "\n",
    "# Disposizione finale e visualizzazione\n",
    "#plt.tight_layout()\n",
    "\n",
    "if ESPORTA_IMMGAGINI:\n",
    "        plt.savefig(CARTELLA_IMMAGINI + \"2_3_efficienza_per_tensione\" + FORMATO_IMMAGINI, bbox_inches = \"tight\", dpi=DPI)\n",
    "\n",
    "plt.show()"
   ]
  },
  {
   "cell_type": "code",
   "execution_count": 34,
   "id": "88002224",
   "metadata": {},
   "outputs": [
    {
     "data": {
      "image/png": "[encoded data removed]",
      "text/plain": [
       "<Figure size 720x432 with 1 Axes>"
      ]
     },
     "metadata": {
      "needs_background": "light"
     },
     "output_type": "display_data"
    }
   ],
   "source": [
    "# Create a single figure for the three curves\n",
    "plt.figure(figsize = FIGSIZE_1_1)\n",
    "\n",
    "for iPlot, (df, voltage) in enumerate(zip(dataframes, voltages)):\n",
    "    plt.errorbar(\n",
    "        df['x [cm]'], df['epsilon'], \n",
    "        yerr=df['sigma_epsilon'],  # Error bar values\n",
    "        fmt='o', markersize=4, linewidth=0, color=COLORI_TRE[iPlot],  # Marker and line settings\n",
    "        ecolor='gray', elinewidth=1, capsize=3  # Error bar style\n",
    "    )\n",
    "    \n",
    "    plt.text(-2.55, 0.06 + iPlot*0.1,  # Coordinate relative (x, y)\n",
    "        f'{voltage} V', \n",
    "        fontsize=FONT_DIM[2], \n",
    "        bbox=dict(facecolor='white', alpha=GRID_ALPHA, edgecolor=COLORI_TRE[iPlot]),\n",
    "        transform=ax.transAxes,  # Usa ax.transAxes per le coordinate relative\n",
    "        ha='right',  # Allineamento orizzontale a destra\n",
    "        va='top')    # Allineamento verticale in alto\n",
    "    \n",
    "#plt.title('Efficiency vs Threshold Voltage', fontsize = FONT_DIM[1])\n",
    "plt.xlabel('Position [cm]', fontsize = FONT_DIM[1])\n",
    "plt.ylabel('Efficiency', fontsize = FONT_DIM[1])\n",
    "\n",
    "plt.xticks(Asse_x[1050], fontsize = FONT_DIM[1])\n",
    "plt.yticks(fontsize = FONT_DIM[1])\n",
    "\n",
    "plt.xlim(-2, df['x [cm]'].max() + 2)\n",
    "\n",
    "plt.grid(True, color = 'lightgray',  alpha = GRID_ALPHA)\n",
    "\n",
    "if ESPORTA_IMMGAGINI:\n",
    "    plt.savefig(CARTELLA_IMMAGINI + \"2_3_efficienza_completo\" + FORMATO_IMMAGINI, bbox_inches = \"tight\", dpi=DPI)\n",
    "\n",
    "plt.show()"
   ]
  },
  {
   "cell_type": "code",
   "execution_count": null,
   "id": "6115368a-fe1c-4c4e-978d-4578af9f4668",
   "metadata": {},
   "outputs": [],
   "source": []
  }
 ],
 "metadata": {
  "kernelspec": {
   "display_name": "base",
   "language": "python",
   "name": "python3"
  },
  "language_info": {
   "codemirror_mode": {
    "name": "ipython",
    "version": 3
   },
   "file_extension": ".py",
   "mimetype": "text/x-python",
   "name": "python",
   "nbconvert_exporter": "python",
   "pygments_lexer": "ipython3",
   "version": "3.8.8"
  }
 },
 "nbformat": 4,
 "nbformat_minor": 5
}
